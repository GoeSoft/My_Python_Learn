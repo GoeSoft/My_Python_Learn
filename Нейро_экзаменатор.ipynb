{
  "nbformat": 4,
  "nbformat_minor": 0,
  "metadata": {
    "colab": {
      "provenance": [],
      "include_colab_link": true
    },
    "kernelspec": {
      "name": "python3",
      "display_name": "Python 3"
    },
    "language_info": {
      "name": "python"
    }
  },
  "cells": [
    {
      "cell_type": "markdown",
      "metadata": {
        "id": "view-in-github",
        "colab_type": "text"
      },
      "source": [
        "<a href=\"https://colab.research.google.com/github/GoeSoft/My_Python_Learn/blob/main/%D0%9D%D0%B5%D0%B9%D1%80%D0%BE_%D1%8D%D0%BA%D0%B7%D0%B0%D0%BC%D0%B5%D0%BD%D0%B0%D1%82%D0%BE%D1%80.ipynb\" target=\"_parent\"><img src=\"https://colab.research.google.com/assets/colab-badge.svg\" alt=\"Open In Colab\"/></a>"
      ]
    },
    {
      "cell_type": "code",
      "source": [
        "!pip install openai beautifulsoup4 lxml\n",
        "\n",
        "import os\n",
        "from google.colab import userdata\n",
        "os.environ[\"OPENAI_API_KEY\"] = userdata.get('OPENAI_API_KEY')\n",
        "\n",
        "from openai import OpenAI\n",
        "client = OpenAI()"
      ],
      "metadata": {
        "id": "m2WjcJNSWgDc",
        "colab": {
          "base_uri": "https://localhost:8080/"
        },
        "outputId": "4a69f27c-f2d6-4ccc-94ea-1bae09e10ab7"
      },
      "execution_count": 1,
      "outputs": [
        {
          "output_type": "stream",
          "name": "stdout",
          "text": [
            "Requirement already satisfied: openai in /usr/local/lib/python3.12/dist-packages (1.108.0)\n",
            "Requirement already satisfied: beautifulsoup4 in /usr/local/lib/python3.12/dist-packages (4.13.5)\n",
            "Requirement already satisfied: lxml in /usr/local/lib/python3.12/dist-packages (5.4.0)\n",
            "Requirement already satisfied: anyio<5,>=3.5.0 in /usr/local/lib/python3.12/dist-packages (from openai) (4.10.0)\n",
            "Requirement already satisfied: distro<2,>=1.7.0 in /usr/local/lib/python3.12/dist-packages (from openai) (1.9.0)\n",
            "Requirement already satisfied: httpx<1,>=0.23.0 in /usr/local/lib/python3.12/dist-packages (from openai) (0.28.1)\n",
            "Requirement already satisfied: jiter<1,>=0.4.0 in /usr/local/lib/python3.12/dist-packages (from openai) (0.11.0)\n",
            "Requirement already satisfied: pydantic<3,>=1.9.0 in /usr/local/lib/python3.12/dist-packages (from openai) (2.11.9)\n",
            "Requirement already satisfied: sniffio in /usr/local/lib/python3.12/dist-packages (from openai) (1.3.1)\n",
            "Requirement already satisfied: tqdm>4 in /usr/local/lib/python3.12/dist-packages (from openai) (4.67.1)\n",
            "Requirement already satisfied: typing-extensions<5,>=4.11 in /usr/local/lib/python3.12/dist-packages (from openai) (4.15.0)\n",
            "Requirement already satisfied: soupsieve>1.2 in /usr/local/lib/python3.12/dist-packages (from beautifulsoup4) (2.8)\n",
            "Requirement already satisfied: idna>=2.8 in /usr/local/lib/python3.12/dist-packages (from anyio<5,>=3.5.0->openai) (3.10)\n",
            "Requirement already satisfied: certifi in /usr/local/lib/python3.12/dist-packages (from httpx<1,>=0.23.0->openai) (2025.8.3)\n",
            "Requirement already satisfied: httpcore==1.* in /usr/local/lib/python3.12/dist-packages (from httpx<1,>=0.23.0->openai) (1.0.9)\n",
            "Requirement already satisfied: h11>=0.16 in /usr/local/lib/python3.12/dist-packages (from httpcore==1.*->httpx<1,>=0.23.0->openai) (0.16.0)\n",
            "Requirement already satisfied: annotated-types>=0.6.0 in /usr/local/lib/python3.12/dist-packages (from pydantic<3,>=1.9.0->openai) (0.7.0)\n",
            "Requirement already satisfied: pydantic-core==2.33.2 in /usr/local/lib/python3.12/dist-packages (from pydantic<3,>=1.9.0->openai) (2.33.2)\n",
            "Requirement already satisfied: typing-inspection>=0.4.0 in /usr/local/lib/python3.12/dist-packages (from pydantic<3,>=1.9.0->openai) (0.4.1)\n"
          ]
        }
      ]
    },
    {
      "cell_type": "code",
      "source": [
        "import requests\n",
        "from bs4 import BeautifulSoup\n",
        "\n",
        "doc_url = \"https://docs.google.com/document/d/1ziADtbpwWRt-HxPCBixwsZJn_xdw83qnf0v9K8WXeME\"\n",
        "\n",
        "export_url = doc_url + \"/export?format=html\"\n",
        "response = requests.get(export_url)\n",
        "soup = BeautifulSoup(response.content, 'html.parser')\n",
        "document_text = soup.get_text(separator=\"\\n\", strip=True)\n",
        "\n",
        "print(\"📄 Текст документа успешно загружен:\")\n",
        "print(document_text[:500] + \"...\\n\")"
      ],
      "metadata": {
        "id": "yi46fQKrWgGG",
        "colab": {
          "base_uri": "https://localhost:8080/"
        },
        "outputId": "44739e31-27ad-417c-e4b7-2bed225741a0"
      },
      "execution_count": 6,
      "outputs": [
        {
          "output_type": "stream",
          "name": "stdout",
          "text": [
            "📄 Текст документа успешно загружен:\n",
            "История возникновения искусственного интеллекта и великие ученые\n",
            "Искусственный интеллект\n",
            ", как и любая другая область человеческого бытия уже обросла мифами. Сейчас нет внятного понимания, с какой точки вести начало истории возникновения ИИ.\n",
            "Искусственный интеллект как научное направление представляет собой наглядный пример интеграции различных научных областей. Специалисты в естественно-научных областях и вычислительных науках изучают свойства и функционирование живых систем, пользуясь сходными...\n",
            "\n"
          ]
        }
      ]
    },
    {
      "cell_type": "code",
      "source": [
        "def generate_questions(text, num_questions=5):\n",
        "    prompt = f\"\"\"\n",
        "На основе следующего текста сформулируйте {num_questions} открытых вопросов для проверки понимания содержания.\n",
        "Вопросы должны быть:\n",
        "- Чёткими и конкретными\n",
        "- Направленными на ключевые идеи текста\n",
        "- Подходящими для устного или письменного ответа\n",
        "- Сформулированными в нейтральной, профессиональной манере\n",
        "\n",
        "Текст:\n",
        "{text}\n",
        "\n",
        "Выведите только вопросы, каждый с новой строки, без нумерации и дополнительных комментариев.\n",
        "\"\"\"\n",
        "\n",
        "    response = client.chat.completions.create(\n",
        "        model=\"gpt-4o-mini\",\n",
        "        messages=[{\"role\": \"user\", \"content\": prompt}],\n",
        "        temperature=0.5,\n",
        "        max_tokens=300\n",
        "    )\n",
        "    questions = response.choices[0].message.content.strip().split('\\n')\n",
        "    return [q.strip() for q in questions if q.strip()]\n",
        "\n",
        "# Генерация вопросов\n",
        "questions = generate_questions(document_text, num_questions=3)\n",
        "print(\"❓ Сгенерированные вопросы:\")\n",
        "for i, q in enumerate(questions, 1):\n",
        "    print(f\"{i}. {q}\")"
      ],
      "metadata": {
        "id": "otItX5b6WgJI",
        "colab": {
          "base_uri": "https://localhost:8080/"
        },
        "outputId": "c9ee1cba-b83d-4e6b-9a21-b96e5f59d631"
      },
      "execution_count": 7,
      "outputs": [
        {
          "output_type": "stream",
          "name": "stdout",
          "text": [
            "❓ Сгенерированные вопросы:\n",
            "1. Как искусственный интеллект интегрирует различные научные области и какие методы используются для его изучения?\n",
            "2. Какие ключевые достижения в области искусственного интеллекта были сделаны в XX веке, и кто из ученых внес наибольший вклад в их развитие?\n",
            "3. Каково современное понимание искусственного интеллекта и какие задачи он призван решать?\n"
          ]
        }
      ]
    },
    {
      "cell_type": "code",
      "source": [
        "def evaluate_answer(question, reference_text, student_answer):\n",
        "    system_prompt = \"\"\"\n",
        "Вы — эксперт-экзаменатор. Оценивайте ответ кандидата на открытый вопрос по шкале от 0 до 100.\n",
        "\n",
        "Критерии:\n",
        "• 90–100: Полный, точный, структурированный ответ. Раскрыты все ключевые аспекты. Нет ошибок.\n",
        "• 80–89: Ответ в целом верный, но есть небольшие упущения или неточности.\n",
        "• 70–79: Основная идея верна, но ответ неполный или содержит второстепенные ошибки.\n",
        "• 60–69: Частично верный ответ, но много пробелов или существенных упущений.\n",
        "• 50–59: Есть попытка ответить, но мало релевантной информации.\n",
        "• 0–49: Ответ неверный, не по теме или отсутствует.\n",
        "\n",
        "Инструкции:\n",
        "1. Сравните ответ с информацией из исходного текста.\n",
        "2. Оцените по шкале 0–100.\n",
        "3. Кратко обоснуйте оценку: укажите сильные стороны и недостатки.\n",
        "4. В конце укажите: «Оценка: X/100».\n",
        "\n",
        "НИКОГДА не выходите за пределы 0–100.\n",
        "\"\"\"\n",
        "\n",
        "    user_prompt = f\"\"\"\n",
        "Исходный текст (для справки):\n",
        "{reference_text}\n",
        "\n",
        "Вопрос: {question}\n",
        "\n",
        "Ответ кандидата: {student_answer}\n",
        "\"\"\"\n",
        "\n",
        "    response = client.chat.completions.create(\n",
        "        model=\"gpt-4o-mini\",\n",
        "        messages=[\n",
        "            {\"role\": \"system\", \"content\": system_prompt},\n",
        "            {\"role\": \"user\", \"content\": user_prompt}\n",
        "        ],\n",
        "        temperature=0.0,\n",
        "        max_tokens=300\n",
        "    )\n",
        "    return response.choices[0].message.content.strip()"
      ],
      "metadata": {
        "id": "VE3IMQ-CMsBQ"
      },
      "execution_count": 8,
      "outputs": []
    },
    {
      "cell_type": "code",
      "source": [
        "# Пример ответа студента (можно заменить на любой)\n",
        "sample_answer = \"Искусственный интеллект — это когда компьютеры могут думать как люди и решать сложные задачи.\"\n",
        "\n",
        "print(\"\\n\" + \"=\"*60)\n",
        "print(\"🧪 Тестовая оценка ответа на первый вопрос\")\n",
        "print(\"=\"*60)\n",
        "print(f\"Вопрос: {questions[0]}\")\n",
        "print(f\"Ответ: {sample_answer}\\n\")\n",
        "\n",
        "evaluation = evaluate_answer(questions[0], document_text, sample_answer)\n",
        "print(evaluation)"
      ],
      "metadata": {
        "colab": {
          "base_uri": "https://localhost:8080/"
        },
        "id": "Q08FSb9dRGze",
        "outputId": "52d42524-2bbf-46bd-95ad-71294dba56ee"
      },
      "execution_count": 9,
      "outputs": [
        {
          "output_type": "stream",
          "name": "stdout",
          "text": [
            "\n",
            "============================================================\n",
            "🧪 Тестовая оценка ответа на первый вопрос\n",
            "============================================================\n",
            "Вопрос: Как искусственный интеллект интегрирует различные научные области и какие методы используются для его изучения?\n",
            "Ответ: Искусственный интеллект — это когда компьютеры могут думать как люди и решать сложные задачи.\n",
            "\n",
            "Ответ кандидата очень краткий и не раскрывает тему должным образом. Он упоминает, что искусственный интеллект связан с возможностью компьютеров думать как люди и решать сложные задачи, но не объясняет, как именно происходит интеграция различных научных областей и какие методы используются для изучения ИИ. \n",
            "\n",
            "Сильные стороны:\n",
            "- Кандидат правильно указывает на способность ИИ решать сложные задачи, что является важным аспектом.\n",
            "\n",
            "Недостатки:\n",
            "- Ответ не структурирован и не содержит ключевых аспектов, таких как интеграция с естественными науками, вычислительными науками, математикой и логикой.\n",
            "- Не упоминаются конкретные методы, используемые для изучения ИИ, такие как машинное обучение, нейронные сети и другие.\n",
            "- Ответ не демонстрирует глубокого понимания темы.\n",
            "\n",
            "В целом, ответ кандидата является лишь поверхностным и не соответствует требованиям вопроса.\n",
            "\n",
            "Оценка: 40/100.\n"
          ]
        }
      ]
    }
  ]
}