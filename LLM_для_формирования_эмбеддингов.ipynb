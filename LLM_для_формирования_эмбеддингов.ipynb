{
  "cells": [
    {
      "cell_type": "code",
      "execution_count": 10,
      "metadata": {
        "colab": {
          "base_uri": "https://localhost:8080/"
        },
        "id": "uvsapHUAMssD",
        "outputId": "aeace67d-e406-424e-d142-b4dfbe0a0782"
      },
      "outputs": [
        {
          "output_type": "stream",
          "name": "stdout",
          "text": [
            "Requirement already satisfied: requests in /usr/local/lib/python3.12/dist-packages (2.32.4)\n",
            "Requirement already satisfied: sentence-transformers in /usr/local/lib/python3.12/dist-packages (5.1.0)\n",
            "Requirement already satisfied: faiss-cpu in /usr/local/lib/python3.12/dist-packages (1.12.0)\n",
            "Requirement already satisfied: numpy in /usr/local/lib/python3.12/dist-packages (2.0.2)\n",
            "Requirement already satisfied: charset_normalizer<4,>=2 in /usr/local/lib/python3.12/dist-packages (from requests) (3.4.3)\n",
            "Requirement already satisfied: idna<4,>=2.5 in /usr/local/lib/python3.12/dist-packages (from requests) (3.10)\n",
            "Requirement already satisfied: urllib3<3,>=1.21.1 in /usr/local/lib/python3.12/dist-packages (from requests) (2.5.0)\n",
            "Requirement already satisfied: certifi>=2017.4.17 in /usr/local/lib/python3.12/dist-packages (from requests) (2025.8.3)\n",
            "Requirement already satisfied: transformers<5.0.0,>=4.41.0 in /usr/local/lib/python3.12/dist-packages (from sentence-transformers) (4.56.1)\n",
            "Requirement already satisfied: tqdm in /usr/local/lib/python3.12/dist-packages (from sentence-transformers) (4.67.1)\n",
            "Requirement already satisfied: torch>=1.11.0 in /usr/local/lib/python3.12/dist-packages (from sentence-transformers) (2.8.0+cu126)\n",
            "Requirement already satisfied: scikit-learn in /usr/local/lib/python3.12/dist-packages (from sentence-transformers) (1.6.1)\n",
            "Requirement already satisfied: scipy in /usr/local/lib/python3.12/dist-packages (from sentence-transformers) (1.16.2)\n",
            "Requirement already satisfied: huggingface-hub>=0.20.0 in /usr/local/lib/python3.12/dist-packages (from sentence-transformers) (0.35.0)\n",
            "Requirement already satisfied: Pillow in /usr/local/lib/python3.12/dist-packages (from sentence-transformers) (11.3.0)\n",
            "Requirement already satisfied: typing_extensions>=4.5.0 in /usr/local/lib/python3.12/dist-packages (from sentence-transformers) (4.15.0)\n",
            "Requirement already satisfied: packaging in /usr/local/lib/python3.12/dist-packages (from faiss-cpu) (25.0)\n",
            "Requirement already satisfied: filelock in /usr/local/lib/python3.12/dist-packages (from huggingface-hub>=0.20.0->sentence-transformers) (3.19.1)\n",
            "Requirement already satisfied: fsspec>=2023.5.0 in /usr/local/lib/python3.12/dist-packages (from huggingface-hub>=0.20.0->sentence-transformers) (2025.3.0)\n",
            "Requirement already satisfied: pyyaml>=5.1 in /usr/local/lib/python3.12/dist-packages (from huggingface-hub>=0.20.0->sentence-transformers) (6.0.2)\n",
            "Requirement already satisfied: hf-xet<2.0.0,>=1.1.3 in /usr/local/lib/python3.12/dist-packages (from huggingface-hub>=0.20.0->sentence-transformers) (1.1.10)\n",
            "Requirement already satisfied: setuptools in /usr/local/lib/python3.12/dist-packages (from torch>=1.11.0->sentence-transformers) (75.2.0)\n",
            "Requirement already satisfied: sympy>=1.13.3 in /usr/local/lib/python3.12/dist-packages (from torch>=1.11.0->sentence-transformers) (1.13.3)\n",
            "Requirement already satisfied: networkx in /usr/local/lib/python3.12/dist-packages (from torch>=1.11.0->sentence-transformers) (3.5)\n",
            "Requirement already satisfied: jinja2 in /usr/local/lib/python3.12/dist-packages (from torch>=1.11.0->sentence-transformers) (3.1.6)\n",
            "Requirement already satisfied: nvidia-cuda-nvrtc-cu12==12.6.77 in /usr/local/lib/python3.12/dist-packages (from torch>=1.11.0->sentence-transformers) (12.6.77)\n",
            "Requirement already satisfied: nvidia-cuda-runtime-cu12==12.6.77 in /usr/local/lib/python3.12/dist-packages (from torch>=1.11.0->sentence-transformers) (12.6.77)\n",
            "Requirement already satisfied: nvidia-cuda-cupti-cu12==12.6.80 in /usr/local/lib/python3.12/dist-packages (from torch>=1.11.0->sentence-transformers) (12.6.80)\n",
            "Requirement already satisfied: nvidia-cudnn-cu12==9.10.2.21 in /usr/local/lib/python3.12/dist-packages (from torch>=1.11.0->sentence-transformers) (9.10.2.21)\n",
            "Requirement already satisfied: nvidia-cublas-cu12==12.6.4.1 in /usr/local/lib/python3.12/dist-packages (from torch>=1.11.0->sentence-transformers) (12.6.4.1)\n",
            "Requirement already satisfied: nvidia-cufft-cu12==11.3.0.4 in /usr/local/lib/python3.12/dist-packages (from torch>=1.11.0->sentence-transformers) (11.3.0.4)\n",
            "Requirement already satisfied: nvidia-curand-cu12==10.3.7.77 in /usr/local/lib/python3.12/dist-packages (from torch>=1.11.0->sentence-transformers) (10.3.7.77)\n",
            "Requirement already satisfied: nvidia-cusolver-cu12==11.7.1.2 in /usr/local/lib/python3.12/dist-packages (from torch>=1.11.0->sentence-transformers) (11.7.1.2)\n",
            "Requirement already satisfied: nvidia-cusparse-cu12==12.5.4.2 in /usr/local/lib/python3.12/dist-packages (from torch>=1.11.0->sentence-transformers) (12.5.4.2)\n",
            "Requirement already satisfied: nvidia-cusparselt-cu12==0.7.1 in /usr/local/lib/python3.12/dist-packages (from torch>=1.11.0->sentence-transformers) (0.7.1)\n",
            "Requirement already satisfied: nvidia-nccl-cu12==2.27.3 in /usr/local/lib/python3.12/dist-packages (from torch>=1.11.0->sentence-transformers) (2.27.3)\n",
            "Requirement already satisfied: nvidia-nvtx-cu12==12.6.77 in /usr/local/lib/python3.12/dist-packages (from torch>=1.11.0->sentence-transformers) (12.6.77)\n",
            "Requirement already satisfied: nvidia-nvjitlink-cu12==12.6.85 in /usr/local/lib/python3.12/dist-packages (from torch>=1.11.0->sentence-transformers) (12.6.85)\n",
            "Requirement already satisfied: nvidia-cufile-cu12==1.11.1.6 in /usr/local/lib/python3.12/dist-packages (from torch>=1.11.0->sentence-transformers) (1.11.1.6)\n",
            "Requirement already satisfied: triton==3.4.0 in /usr/local/lib/python3.12/dist-packages (from torch>=1.11.0->sentence-transformers) (3.4.0)\n",
            "Requirement already satisfied: regex!=2019.12.17 in /usr/local/lib/python3.12/dist-packages (from transformers<5.0.0,>=4.41.0->sentence-transformers) (2024.11.6)\n",
            "Requirement already satisfied: tokenizers<=0.23.0,>=0.22.0 in /usr/local/lib/python3.12/dist-packages (from transformers<5.0.0,>=4.41.0->sentence-transformers) (0.22.0)\n",
            "Requirement already satisfied: safetensors>=0.4.3 in /usr/local/lib/python3.12/dist-packages (from transformers<5.0.0,>=4.41.0->sentence-transformers) (0.6.2)\n",
            "Requirement already satisfied: joblib>=1.2.0 in /usr/local/lib/python3.12/dist-packages (from scikit-learn->sentence-transformers) (1.5.2)\n",
            "Requirement already satisfied: threadpoolctl>=3.1.0 in /usr/local/lib/python3.12/dist-packages (from scikit-learn->sentence-transformers) (3.6.0)\n",
            "Requirement already satisfied: mpmath<1.4,>=1.1.0 in /usr/local/lib/python3.12/dist-packages (from sympy>=1.13.3->torch>=1.11.0->sentence-transformers) (1.3.0)\n",
            "Requirement already satisfied: MarkupSafe>=2.0 in /usr/local/lib/python3.12/dist-packages (from jinja2->torch>=1.11.0->sentence-transformers) (3.0.2)\n"
          ]
        }
      ],
      "source": [
        "!pip install requests sentence-transformers faiss-cpu numpy\n"
      ]
    },
    {
      "cell_type": "code",
      "execution_count": 11,
      "metadata": {
        "id": "-Pkgac1IQ6Q5"
      },
      "outputs": [],
      "source": [
        "import re\n",
        "import requests\n",
        "from sentence_transformers import SentenceTransformer\n",
        "import faiss\n",
        "import numpy as np"
      ]
    },
    {
      "cell_type": "code",
      "execution_count": 12,
      "metadata": {
        "colab": {
          "base_uri": "https://localhost:8080/"
        },
        "id": "wsI1aX-QX9bt",
        "outputId": "f2f015a5-e5de-4514-c761-9b48c2e1ad69"
      },
      "outputs": [
        {
          "output_type": "stream",
          "name": "stdout",
          "text": [
            "📥 Загружаем базу знаний из Google Docs...\n",
            "✅ Загружено 5078 фрагментов.\n"
          ]
        }
      ],
      "source": [
        "doc_id = \"1o0x1b-kSmHBzSOG5jP2tTywRi0AdygsM3FOkozO4BCI\"\n",
        "export_url = f\"https://docs.google.com/document/d/{doc_id}/export?format=txt\"\n",
        "\n",
        "print(\"📥 Загружаем базу знаний из Google Docs...\")\n",
        "response = requests.get(export_url)\n",
        "response.raise_for_status()  # ошибка, если документ не публичный\n",
        "text = response.content.decode('utf-8')\n",
        "\n",
        "# Очистка от лишних переносов\n",
        "text = re.sub(r'\\n+', '\\n\\n', text).strip()\n",
        "\n",
        "# Разбиваем на абзацы\n",
        "paragraphs = [p.strip() for p in text.split(\"\\n\\n\") if p.strip() and len(p.strip()) > 20]\n",
        "print(f\"✅ Загружено {len(paragraphs)} фрагментов.\")"
      ]
    },
    {
      "cell_type": "code",
      "execution_count": 13,
      "metadata": {
        "id": "9LW9-HuJYCng",
        "colab": {
          "base_uri": "https://localhost:8080/",
          "height": 84,
          "referenced_widgets": [
            "7b07c783a8e74562b27acbc0a2fb1925",
            "b39ab46a3636451e876a5ae5d26e7f9e",
            "1d6f3310ba674879a385bb072da19802",
            "c8b3ff05064548bfa93b35330d179a80",
            "c1e80d2e96464aeaa352d3ee240cd9c6",
            "1f25344f61b843b0822c25a2b83f42c8",
            "ad23be20c19340849acb63384ba1be5d",
            "9d202cb730be4feca0b7969837e33db3",
            "a93fa726c4d843c8950c36252a49b96f",
            "f81734435449472b94cc4faff752e30b",
            "74bdeb3dd9cc42f4b14f68c295400a44"
          ]
        },
        "outputId": "b22e8bd7-5d2b-4965-f22f-411de66a0d81"
      },
      "outputs": [
        {
          "output_type": "stream",
          "name": "stdout",
          "text": [
            "🧠 Загружаем модель: intfloat/multilingual-e5-small\n",
            "🔍 Создаём эмбеддинги...\n"
          ]
        },
        {
          "output_type": "display_data",
          "data": {
            "text/plain": [
              "Batches:   0%|          | 0/159 [00:00<?, ?it/s]"
            ],
            "application/vnd.jupyter.widget-view+json": {
              "version_major": 2,
              "version_minor": 0,
              "model_id": "7b07c783a8e74562b27acbc0a2fb1925"
            }
          },
          "metadata": {}
        }
      ],
      "source": [
        "model_name = \"intfloat/multilingual-e5-small\"\n",
        "print(f\"🧠 Загружаем модель: {model_name}\")\n",
        "model = SentenceTransformer(model_name)\n",
        "\n",
        "# Кодируем документы с префиксом\n",
        "print(\"🔍 Создаём эмбеддинги...\")\n",
        "passage_embeddings = model.encode(\n",
        "    [\"passage: \" + p for p in paragraphs],\n",
        "    normalize_embeddings=True,\n",
        "    show_progress_bar=True\n",
        ")"
      ]
    },
    {
      "cell_type": "code",
      "execution_count": 14,
      "metadata": {
        "id": "3k6-_NOSYF5m"
      },
      "outputs": [],
      "source": [
        "dimension = passage_embeddings.shape[1]\n",
        "index = faiss.IndexFlatIP(dimension)\n",
        "index.add(np.array(passage_embeddings).astype(\"float32\"))\n"
      ]
    },
    {
      "cell_type": "code",
      "execution_count": 15,
      "metadata": {
        "id": "N5ZijQ6XQ6zT"
      },
      "outputs": [],
      "source": [
        "questions = [\n",
        "    'Можно ли устроиться в УИИ на удаленную работу после окончания обучения?',\n",
        "    'Нет опыта в программировании. Я смогу участвовать в стажировке?',\n",
        "    'У УИИ есть собственный фреймворк? ',\n",
        "    'Покажи отзывы об обучении на курсе Data science и нейронные сети?',\n",
        "    'С какими библиотеками по нейронным сетям работает УИИ?',\n",
        "    'Есть ли курсы которые стоят 60 000 рублей? Скинуть стоимость курсов',\n",
        "    'Самый крупный проект УИИ как аутсорсинговой компании',\n",
        "    'Какие есть стажировки с нейронными сетями?',\n",
        "    'Какая стоимость обучения в Университете искусственного интеллекта?',\n",
        "    'Какая продолжительность программы обучения и какие формы обучения предлагаются?',\n",
        "    'Кто куратор курса «Data science и нейронные сети»',\n",
        "    'Могу ли я на стажировке выполнять проект для своего бизнеса?',\n",
        "    'Какие есть стажировки с Object detection?',\n",
        "    'Были ли стажировки в IT компаниях?',\n",
        "    'Отправьте ссылки на вебинары УИИ, которые уже прошли',\n",
        "    'Какие хакатоны выигрывали студенты УИИ?',\n",
        "    'Можно ли получить какой-либо курс в подарок?',\n",
        "    'Какой тариф обучения подойдет для опытного программиста? '\n",
        "]"
      ]
    },
    {
      "cell_type": "code",
      "execution_count": 16,
      "metadata": {
        "id": "ow57zNPmYHi5"
      },
      "outputs": [],
      "source": [
        "def search(query, k=2):\n",
        "    query_emb = model.encode(\"query: \" + query, normalize_embeddings=True)\n",
        "    query_emb = np.array(query_emb).astype(\"float32\").reshape(1, -1)\n",
        "    scores, indices = index.search(query_emb, k)\n",
        "    return [{\"score\": float(scores[0][i]), \"text\": paragraphs[indices[0][i]]} for i in range(k)]\n"
      ]
    },
    {
      "cell_type": "code",
      "execution_count": 17,
      "metadata": {
        "id": "1x386omoYJj6",
        "colab": {
          "base_uri": "https://localhost:8080/"
        },
        "outputId": "be125d13-5036-400c-8236-d18ae9341e92"
      },
      "outputs": [
        {
          "output_type": "stream",
          "name": "stdout",
          "text": [
            "\n",
            "❓ Вопрос 1: Можно ли устроиться в УИИ на удаленную работу после окончания обучения?\n",
            "  📌 (score=0.894) * Студентам, прошедшим курс УИИ, не нужно будет тратить время на дорогу до работы. Возможность работать удаленно сэкономит 1200 часов в год. Это возвратная инвестиция....\n",
            "  📌 (score=0.891) Все курсы УИИ предоставляют достаточно знаний для дальнейшего трудоустройства. После прохождения обучения в УИИ, выпускники осваивают новую профессию и могут устраиваться на работу....\n",
            "\n",
            "❓ Вопрос 2: Нет опыта в программировании. Я смогу участвовать в стажировке?\n",
            "  📌 (score=0.881) 4. Возможность устроить к себе в штат разработчика со стажировки...\n",
            "  📌 (score=0.881) 3. Работа в команде и взаимодействие с руководителями: программа позволяет студентам активно сотрудничать с руководителем команды, другими участниками команды и клиентами. Они могут наслаждаться совместной работой и обмениваться опытом с группой из 1...\n",
            "\n",
            "❓ Вопрос 3: У УИИ есть собственный фреймворк? \n",
            "  📌 (score=0.914) В УИИ существует своя генетика - собственный фреймворк, который сравним с AutoKeras по скорости и точности. Он умеет классифицировать изображения, тексты и табличные данные. В настоящее время осуществляется доработка фреймворка для решения более слож...\n",
            "  📌 (score=0.908) Фреймворк является первым историческим моментов, когда УИИ предлагает не просто курс, а уже готовый софт. Разработка софта, который позволяет избежать долгого обучения, более эффективна, чем обучение человека на протяжении года. Студенты смогут получ...\n",
            "\n",
            "❓ Вопрос 4: Покажи отзывы об обучении на курсе Data science и нейронные сети?\n",
            "  📌 (score=0.937) Описание курса Data Science и нейронные сети....\n",
            "  📌 (score=0.935) Презентация курса Data Science и нейронные сети...\n",
            "\n",
            "❓ Вопрос 5: С какими библиотеками по нейронным сетям работает УИИ?\n",
            "  📌 (score=0.921) На данный момент УИИ использует такие библиотеки по нейронным сетям, которые облегчают работу над проектом: Keras, PyTorch и TensorFlow.  Для интеграции необходимо выложить нейронную сеть на сервер и сделать Api....\n",
            "  📌 (score=0.888) Главная цель УИИ - создать огромную базу на десятки тысяч страниц по искусственному интеллекту, чтобы на ней обучить ChatGPT. Таким образом, нейронная сеть сможет консультировать людей по внедрению, например, она подскажет какие видеокамеры или видео...\n",
            "\n",
            "❓ Вопрос 6: Есть ли курсы которые стоят 60 000 рублей? Скинуть стоимость курсов\n",
            "  📌 (score=0.878) Для получения курса необходимо осуществить покупку. Стоимость курса составляет 39 900 рублей....\n",
            "  📌 (score=0.878) Для получения курса необходимо осуществить покупку. Стоимость курса составляет 39 900 рублей....\n",
            "\n",
            "❓ Вопрос 7: Самый крупный проект УИИ как аутсорсинговой компании\n",
            "  📌 (score=0.886) УИИ предоставляет возможность всем своим студентам проходить стажировки в передовых компаниях, что является ценным дополнением к образованию и позволяет приобрести практический опыт. УИИ сотрудничает с крупными компаниями: Сбер, ТРАНСМАШ, Первый кана...\n",
            "  📌 (score=0.884) Услуги УИИ по  внедрению ChatGPT в компании...\n",
            "\n",
            "❓ Вопрос 8: Какие есть стажировки с нейронными сетями?\n",
            "  📌 (score=0.908) У каждого студента есть возможность пройти стажировку, написать нейронную сеть, дополнить резюме новыми знаниями, навыками, примерами сотрудничества с крупными компаниями, которые заметно выделяют на фоне остальных специалистов. Таким образом, програ...\n",
            "  📌 (score=0.883) Цель курса - научить студентов интегрировать технологию нейронных сетей в различные системы. У студентов будет много возможностей получить ценные навыки и опыт на стажировке, что делает курс очень востребованной....\n",
            "\n",
            "❓ Вопрос 9: Какая стоимость обучения в Университете искусственного интеллекта?\n",
            "  📌 (score=0.892) Университет Искусственного Интеллекта - ведущее образовательное учреждение в России, специализирующееся исключительно на области искусственного интеллекта. Он является самым крупным университетом по ИИ в России и странах СНГ, признанным лидером в обр...\n",
            "  📌 (score=0.889) Университет искусственного интеллекта отличается от других университетов своей специализацией в области AI. Благодаря своей уникальной концентрации на AI, УИИ предоставляет учащимся широкий спектр возможностей для получения глубокого и полноценного о...\n",
            "\n",
            "❓ Вопрос 10: Какая продолжительность программы обучения и какие формы обучения предлагаются?\n",
            "  📌 (score=0.879) Продолжительность обучения составляет от 7 месяцев, в которые входят 32 занятия (400 часов обучения)....\n",
            "  📌 (score=0.876) *  Продолжительность обучения от 7 месяцев на тарифе “Базовый”. На тарифе \"Продвинутый\" программа расширяется до 3 лет и 8 месяцев....\n",
            "\n",
            "❓ Вопрос 11: Кто куратор курса «Data science и нейронные сети»\n",
            "  📌 (score=0.912) Кураторы курса «Data science и нейронные сети»:...\n",
            "  📌 (score=0.891) 35.  В прошлом году, в 2021, я купил курс по созданию нейронных сетей, сейчас я на половине этого курса, и пока я всем более, чем доволен. При покупке курса вам предлагают: хорошее, поэтапное а главное понятное обучение с плавным подходом и введением...\n",
            "\n",
            "❓ Вопрос 12: Могу ли я на стажировке выполнять проект для своего бизнеса?\n",
            "  📌 (score=0.887) Как проходит работа в проекте во время стажировки...\n",
            "  📌 (score=0.879) 2. Уникальная практика: программа стажировок предоставляет уникальный опыт обучения, включающий командную работу и взаимодействие с клиентами для соблюдения сроков выполнения проектов. Только 2-3% студентов имеют возможность работать над такими проек...\n",
            "\n",
            "❓ Вопрос 13: Какие есть стажировки с Object detection?\n",
            "  📌 (score=0.869) Object detection (OD) - это обнаружение объектов. Самая частая и востребованная задача на Российском рынке....\n",
            "  📌 (score=0.864) С чем идёт работа в задачах object detection:...\n",
            "\n",
            "❓ Вопрос 14: Были ли стажировки в IT компаниях?\n",
            "  📌 (score=0.870) Компании для стажировок...\n",
            "  📌 (score=0.864) Заинтересовался темой IT и решил пройти обучение в УИИ, посмотрев выступление Дмитрия Романова. Решил не возвращаться на прежнее место работы и начать развиваться в сфере IT. Считает, что стажировки необходимо проходить, так как они предоставляют воз...\n",
            "\n",
            "❓ Вопрос 15: Отправьте ссылки на вебинары УИИ, которые уже прошли\n",
            "  📌 (score=0.935) Ссылки на прошедшие вебинары и реалити УИИ...\n",
            "  📌 (score=0.908) Компании, в которые уже трудоустроены выпускники УИИ...\n",
            "\n",
            "❓ Вопрос 16: Какие хакатоны выигрывали студенты УИИ?\n",
            "  📌 (score=0.906) Список хакатонов, в которых студенты УИИ победили или заняли призовые места:...\n",
            "  📌 (score=0.895) Список хакатонов, в которых студенты УИИ заняли призовые места:...\n",
            "\n",
            "❓ Вопрос 17: Можно ли получить какой-либо курс в подарок?\n",
            "  📌 (score=0.879) Также курс доступен и для старичков (действующих студентов), которые могут получить его в подарок при любой покупке на сумму 40 000 рублей. К примеру, это может быть покупка курса по PyTorch или Интеграции в Production, стажировок на год, либо повыше...\n",
            "  📌 (score=0.879) Также курс доступен и для старичков, которые могут получить его в подарок при любой покупке на сумму 40 000 рублей. К примеру, это может быть покупка курса по PyTorch или Интеграции в Production, стажировок на год, либо повышение тарифа с базового на...\n",
            "\n",
            "❓ Вопрос 18: Какой тариф обучения подойдет для опытного программиста? \n",
            "  📌 (score=0.891) Тариф \"Продвинутый\" рекомендуется для студентов, которые стремятся получить максимум информации и пройти 4 стажировки по выбору в различных проектах. Подходит для программистов с опытом работы в IT....\n",
            "  📌 (score=0.881) В УИИ существует несколько тарифов обучения: “Базовый”, “Основной”, “Расширенный”, “Продвинутый”, “AI под ключ” и “ChatGPT”. Каждый из тарифов предлагает уникальные возможности и глубокое погружение в мир нейронных сетей, программирования и других ак...\n"
          ]
        }
      ],
      "source": [
        "for i, q in enumerate(questions, 1):\n",
        "    print(f\"\\n❓ Вопрос {i}: {q}\")\n",
        "    results = search(q)\n",
        "    for j, res in enumerate(results, 1):\n",
        "        print(f\"  📌 (score={res['score']:.3f}) {res['text'][:250]}...\")"
      ]
    }
  ],
  "metadata": {
    "accelerator": "GPU",
    "colab": {
      "gpuType": "T4",
      "provenance": []
    },
    "kernelspec": {
      "display_name": "Python 3",
      "name": "python3"
    },
    "language_info": {
      "name": "python"
    },
    "widgets": {
      "application/vnd.jupyter.widget-state+json": {
        "7b07c783a8e74562b27acbc0a2fb1925": {
          "model_module": "@jupyter-widgets/controls",
          "model_name": "HBoxModel",
          "model_module_version": "1.5.0",
          "state": {
            "_dom_classes": [],
            "_model_module": "@jupyter-widgets/controls",
            "_model_module_version": "1.5.0",
            "_model_name": "HBoxModel",
            "_view_count": null,
            "_view_module": "@jupyter-widgets/controls",
            "_view_module_version": "1.5.0",
            "_view_name": "HBoxView",
            "box_style": "",
            "children": [
              "IPY_MODEL_b39ab46a3636451e876a5ae5d26e7f9e",
              "IPY_MODEL_1d6f3310ba674879a385bb072da19802",
              "IPY_MODEL_c8b3ff05064548bfa93b35330d179a80"
            ],
            "layout": "IPY_MODEL_c1e80d2e96464aeaa352d3ee240cd9c6"
          }
        },
        "b39ab46a3636451e876a5ae5d26e7f9e": {
          "model_module": "@jupyter-widgets/controls",
          "model_name": "HTMLModel",
          "model_module_version": "1.5.0",
          "state": {
            "_dom_classes": [],
            "_model_module": "@jupyter-widgets/controls",
            "_model_module_version": "1.5.0",
            "_model_name": "HTMLModel",
            "_view_count": null,
            "_view_module": "@jupyter-widgets/controls",
            "_view_module_version": "1.5.0",
            "_view_name": "HTMLView",
            "description": "",
            "description_tooltip": null,
            "layout": "IPY_MODEL_1f25344f61b843b0822c25a2b83f42c8",
            "placeholder": "​",
            "style": "IPY_MODEL_ad23be20c19340849acb63384ba1be5d",
            "value": "Batches: 100%"
          }
        },
        "1d6f3310ba674879a385bb072da19802": {
          "model_module": "@jupyter-widgets/controls",
          "model_name": "FloatProgressModel",
          "model_module_version": "1.5.0",
          "state": {
            "_dom_classes": [],
            "_model_module": "@jupyter-widgets/controls",
            "_model_module_version": "1.5.0",
            "_model_name": "FloatProgressModel",
            "_view_count": null,
            "_view_module": "@jupyter-widgets/controls",
            "_view_module_version": "1.5.0",
            "_view_name": "ProgressView",
            "bar_style": "success",
            "description": "",
            "description_tooltip": null,
            "layout": "IPY_MODEL_9d202cb730be4feca0b7969837e33db3",
            "max": 159,
            "min": 0,
            "orientation": "horizontal",
            "style": "IPY_MODEL_a93fa726c4d843c8950c36252a49b96f",
            "value": 159
          }
        },
        "c8b3ff05064548bfa93b35330d179a80": {
          "model_module": "@jupyter-widgets/controls",
          "model_name": "HTMLModel",
          "model_module_version": "1.5.0",
          "state": {
            "_dom_classes": [],
            "_model_module": "@jupyter-widgets/controls",
            "_model_module_version": "1.5.0",
            "_model_name": "HTMLModel",
            "_view_count": null,
            "_view_module": "@jupyter-widgets/controls",
            "_view_module_version": "1.5.0",
            "_view_name": "HTMLView",
            "description": "",
            "description_tooltip": null,
            "layout": "IPY_MODEL_f81734435449472b94cc4faff752e30b",
            "placeholder": "​",
            "style": "IPY_MODEL_74bdeb3dd9cc42f4b14f68c295400a44",
            "value": " 159/159 [00:04&lt;00:00, 88.02it/s]"
          }
        },
        "c1e80d2e96464aeaa352d3ee240cd9c6": {
          "model_module": "@jupyter-widgets/base",
          "model_name": "LayoutModel",
          "model_module_version": "1.2.0",
          "state": {
            "_model_module": "@jupyter-widgets/base",
            "_model_module_version": "1.2.0",
            "_model_name": "LayoutModel",
            "_view_count": null,
            "_view_module": "@jupyter-widgets/base",
            "_view_module_version": "1.2.0",
            "_view_name": "LayoutView",
            "align_content": null,
            "align_items": null,
            "align_self": null,
            "border": null,
            "bottom": null,
            "display": null,
            "flex": null,
            "flex_flow": null,
            "grid_area": null,
            "grid_auto_columns": null,
            "grid_auto_flow": null,
            "grid_auto_rows": null,
            "grid_column": null,
            "grid_gap": null,
            "grid_row": null,
            "grid_template_areas": null,
            "grid_template_columns": null,
            "grid_template_rows": null,
            "height": null,
            "justify_content": null,
            "justify_items": null,
            "left": null,
            "margin": null,
            "max_height": null,
            "max_width": null,
            "min_height": null,
            "min_width": null,
            "object_fit": null,
            "object_position": null,
            "order": null,
            "overflow": null,
            "overflow_x": null,
            "overflow_y": null,
            "padding": null,
            "right": null,
            "top": null,
            "visibility": null,
            "width": null
          }
        },
        "1f25344f61b843b0822c25a2b83f42c8": {
          "model_module": "@jupyter-widgets/base",
          "model_name": "LayoutModel",
          "model_module_version": "1.2.0",
          "state": {
            "_model_module": "@jupyter-widgets/base",
            "_model_module_version": "1.2.0",
            "_model_name": "LayoutModel",
            "_view_count": null,
            "_view_module": "@jupyter-widgets/base",
            "_view_module_version": "1.2.0",
            "_view_name": "LayoutView",
            "align_content": null,
            "align_items": null,
            "align_self": null,
            "border": null,
            "bottom": null,
            "display": null,
            "flex": null,
            "flex_flow": null,
            "grid_area": null,
            "grid_auto_columns": null,
            "grid_auto_flow": null,
            "grid_auto_rows": null,
            "grid_column": null,
            "grid_gap": null,
            "grid_row": null,
            "grid_template_areas": null,
            "grid_template_columns": null,
            "grid_template_rows": null,
            "height": null,
            "justify_content": null,
            "justify_items": null,
            "left": null,
            "margin": null,
            "max_height": null,
            "max_width": null,
            "min_height": null,
            "min_width": null,
            "object_fit": null,
            "object_position": null,
            "order": null,
            "overflow": null,
            "overflow_x": null,
            "overflow_y": null,
            "padding": null,
            "right": null,
            "top": null,
            "visibility": null,
            "width": null
          }
        },
        "ad23be20c19340849acb63384ba1be5d": {
          "model_module": "@jupyter-widgets/controls",
          "model_name": "DescriptionStyleModel",
          "model_module_version": "1.5.0",
          "state": {
            "_model_module": "@jupyter-widgets/controls",
            "_model_module_version": "1.5.0",
            "_model_name": "DescriptionStyleModel",
            "_view_count": null,
            "_view_module": "@jupyter-widgets/base",
            "_view_module_version": "1.2.0",
            "_view_name": "StyleView",
            "description_width": ""
          }
        },
        "9d202cb730be4feca0b7969837e33db3": {
          "model_module": "@jupyter-widgets/base",
          "model_name": "LayoutModel",
          "model_module_version": "1.2.0",
          "state": {
            "_model_module": "@jupyter-widgets/base",
            "_model_module_version": "1.2.0",
            "_model_name": "LayoutModel",
            "_view_count": null,
            "_view_module": "@jupyter-widgets/base",
            "_view_module_version": "1.2.0",
            "_view_name": "LayoutView",
            "align_content": null,
            "align_items": null,
            "align_self": null,
            "border": null,
            "bottom": null,
            "display": null,
            "flex": null,
            "flex_flow": null,
            "grid_area": null,
            "grid_auto_columns": null,
            "grid_auto_flow": null,
            "grid_auto_rows": null,
            "grid_column": null,
            "grid_gap": null,
            "grid_row": null,
            "grid_template_areas": null,
            "grid_template_columns": null,
            "grid_template_rows": null,
            "height": null,
            "justify_content": null,
            "justify_items": null,
            "left": null,
            "margin": null,
            "max_height": null,
            "max_width": null,
            "min_height": null,
            "min_width": null,
            "object_fit": null,
            "object_position": null,
            "order": null,
            "overflow": null,
            "overflow_x": null,
            "overflow_y": null,
            "padding": null,
            "right": null,
            "top": null,
            "visibility": null,
            "width": null
          }
        },
        "a93fa726c4d843c8950c36252a49b96f": {
          "model_module": "@jupyter-widgets/controls",
          "model_name": "ProgressStyleModel",
          "model_module_version": "1.5.0",
          "state": {
            "_model_module": "@jupyter-widgets/controls",
            "_model_module_version": "1.5.0",
            "_model_name": "ProgressStyleModel",
            "_view_count": null,
            "_view_module": "@jupyter-widgets/base",
            "_view_module_version": "1.2.0",
            "_view_name": "StyleView",
            "bar_color": null,
            "description_width": ""
          }
        },
        "f81734435449472b94cc4faff752e30b": {
          "model_module": "@jupyter-widgets/base",
          "model_name": "LayoutModel",
          "model_module_version": "1.2.0",
          "state": {
            "_model_module": "@jupyter-widgets/base",
            "_model_module_version": "1.2.0",
            "_model_name": "LayoutModel",
            "_view_count": null,
            "_view_module": "@jupyter-widgets/base",
            "_view_module_version": "1.2.0",
            "_view_name": "LayoutView",
            "align_content": null,
            "align_items": null,
            "align_self": null,
            "border": null,
            "bottom": null,
            "display": null,
            "flex": null,
            "flex_flow": null,
            "grid_area": null,
            "grid_auto_columns": null,
            "grid_auto_flow": null,
            "grid_auto_rows": null,
            "grid_column": null,
            "grid_gap": null,
            "grid_row": null,
            "grid_template_areas": null,
            "grid_template_columns": null,
            "grid_template_rows": null,
            "height": null,
            "justify_content": null,
            "justify_items": null,
            "left": null,
            "margin": null,
            "max_height": null,
            "max_width": null,
            "min_height": null,
            "min_width": null,
            "object_fit": null,
            "object_position": null,
            "order": null,
            "overflow": null,
            "overflow_x": null,
            "overflow_y": null,
            "padding": null,
            "right": null,
            "top": null,
            "visibility": null,
            "width": null
          }
        },
        "74bdeb3dd9cc42f4b14f68c295400a44": {
          "model_module": "@jupyter-widgets/controls",
          "model_name": "DescriptionStyleModel",
          "model_module_version": "1.5.0",
          "state": {
            "_model_module": "@jupyter-widgets/controls",
            "_model_module_version": "1.5.0",
            "_model_name": "DescriptionStyleModel",
            "_view_count": null,
            "_view_module": "@jupyter-widgets/base",
            "_view_module_version": "1.2.0",
            "_view_name": "StyleView",
            "description_width": ""
          }
        }
      }
    }
  },
  "nbformat": 4,
  "nbformat_minor": 0
}