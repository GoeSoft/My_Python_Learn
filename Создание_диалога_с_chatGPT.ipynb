{
  "nbformat": 4,
  "nbformat_minor": 0,
  "metadata": {
    "colab": {
      "provenance": [],
      "authorship_tag": "ABX9TyNAzCDULu1shllFcTGaw7w+"
    },
    "kernelspec": {
      "name": "python3",
      "display_name": "Python 3"
    },
    "language_info": {
      "name": "python"
    }
  },
  "cells": [
    {
      "cell_type": "code",
      "execution_count": 2,
      "metadata": {
        "colab": {
          "base_uri": "https://localhost:8080/"
        },
        "id": "b7o-f0ItF0Yv",
        "outputId": "b1850692-2932-4d27-e1ee-e35a557e9ecf"
      },
      "outputs": [
        {
          "output_type": "stream",
          "name": "stdout",
          "text": [
            "\u001b[2K   \u001b[90m━━━━━━━━━━━━━━━━━━━━━━━━━━━━━━━━━━━━━━━━\u001b[0m \u001b[32m30.7/30.7 MB\u001b[0m \u001b[31m59.4 MB/s\u001b[0m eta \u001b[36m0:00:00\u001b[0m\n",
            "\u001b[2K   \u001b[90m━━━━━━━━━━━━━━━━━━━━━━━━━━━━━━━━━━━━━━━━\u001b[0m \u001b[32m599.1/599.1 kB\u001b[0m \u001b[31m40.0 MB/s\u001b[0m eta \u001b[36m0:00:00\u001b[0m\n",
            "\u001b[2K   \u001b[90m━━━━━━━━━━━━━━━━━━━━━━━━━━━━━━━━━━━━━━━━\u001b[0m \u001b[32m1.2/1.2 MB\u001b[0m \u001b[31m69.2 MB/s\u001b[0m eta \u001b[36m0:00:00\u001b[0m\n",
            "\u001b[2K   \u001b[90m━━━━━━━━━━━━━━━━━━━━━━━━━━━━━━━━━━━━━━━━\u001b[0m \u001b[32m61.3/61.3 kB\u001b[0m \u001b[31m5.4 MB/s\u001b[0m eta \u001b[36m0:00:00\u001b[0m\n",
            "\u001b[2K   \u001b[90m━━━━━━━━━━━━━━━━━━━━━━━━━━━━━━━━━━━━━━━━\u001b[0m \u001b[32m2.5/2.5 MB\u001b[0m \u001b[31m91.4 MB/s\u001b[0m eta \u001b[36m0:00:00\u001b[0m\n",
            "\u001b[2K   \u001b[90m━━━━━━━━━━━━━━━━━━━━━━━━━━━━━━━━━━━━━━━━\u001b[0m \u001b[32m363.0/363.0 kB\u001b[0m \u001b[31m29.6 MB/s\u001b[0m eta \u001b[36m0:00:00\u001b[0m\n",
            "\u001b[2K   \u001b[90m━━━━━━━━━━━━━━━━━━━━━━━━━━━━━━━━━━━━━━━━\u001b[0m \u001b[32m50.9/50.9 kB\u001b[0m \u001b[31m4.4 MB/s\u001b[0m eta \u001b[36m0:00:00\u001b[0m\n",
            "\u001b[2K   \u001b[90m━━━━━━━━━━━━━━━━━━━━━━━━━━━━━━━━━━━━━━━━\u001b[0m \u001b[32m5.4/5.4 MB\u001b[0m \u001b[31m105.8 MB/s\u001b[0m eta \u001b[36m0:00:00\u001b[0m\n",
            "\u001b[?25h"
          ]
        }
      ],
      "source": [
        "!pip install -q faiss-cpu==1.10.0 openai==1.70.0 tiktoken==0.9.0 langchain_openai==0.3.12 langchain_community==0.3.21"
      ]
    },
    {
      "cell_type": "code",
      "source": [
        "from openai import OpenAI\n",
        "from langchain_openai import OpenAIEmbeddings\n",
        "from langchain.text_splitter import RecursiveCharacterTextSplitter, MarkdownHeaderTextSplitter\n",
        "from langchain.vectorstores import FAISS\n",
        "from langchain.docstore.document import Document\n",
        "import os\n",
        "import re\n",
        "import requests\n",
        "import openai\n",
        "import tiktoken\n",
        "import matplotlib.pyplot as plt\n",
        "from textwrap import fill\n",
        "\n",
        "import logging\n",
        "logging.getLogger(\"langchain.text_splitter\").setLevel(logging.ERROR)"
      ],
      "metadata": {
        "id": "8d_j03H1GRPN"
      },
      "execution_count": 3,
      "outputs": []
    },
    {
      "cell_type": "code",
      "source": [
        "# использование секретного ключа в колабе\n",
        "from google.colab import userdata\n",
        "# Получение API ключа из пользовательских данных Colab и установка его как переменной среды\n",
        "key = userdata.get('OPENAI_API_KEY')\n",
        "os.environ[\"OPENAI_API_KEY\"] = key\n",
        "\n",
        "# Создание клиента OpenAI с использованием API ключа из переменных среды\n",
        "client = OpenAI()"
      ],
      "metadata": {
        "id": "_AeC4c9eGk1l"
      },
      "execution_count": 4,
      "outputs": []
    },
    {
      "cell_type": "code",
      "source": [
        "# функция для загрузки документа по ссылке из гугл драйв\n",
        "def load_document_text(url: str) -> str:\n",
        "    # Extract the document ID from the URL\n",
        "    match_ = re.search('/document/d/([a-zA-Z0-9-_]+)', url)\n",
        "    if match_ is None:\n",
        "        raise ValueError('Invalid Google Docs URL')\n",
        "    doc_id = match_.group(1)\n",
        "\n",
        "    # Download the document as plain text\n",
        "    response = requests.get(f'https://docs.google.com/document/d/{doc_id}/export?format=txt')\n",
        "    response.raise_for_status()\n",
        "    text = response.text\n",
        "\n",
        "    return text"
      ],
      "metadata": {
        "id": "1JEduT0AGpx2"
      },
      "execution_count": 5,
      "outputs": []
    },
    {
      "cell_type": "code",
      "source": [
        "# База знаний, которая будет подаваться в langChain\n",
        "database= load_document_text('https://docs.google.com/document/d/1WMp-uMA4_59Ybp2ynCvrFIPV1OwGHQA4zvW526BawJM/edit?tab=t.0')"
      ],
      "metadata": {
        "id": "pdjF-iH5GrnO"
      },
      "execution_count": 6,
      "outputs": []
    },
    {
      "cell_type": "code",
      "source": [
        "database[:1000]"
      ],
      "metadata": {
        "colab": {
          "base_uri": "https://localhost:8080/",
          "height": 105
        },
        "id": "lV3zBgBNGwJu",
        "outputId": "1083c87f-9025-40a7-cd40-48e9015cc15b"
      },
      "execution_count": 7,
      "outputs": [
        {
          "output_type": "execute_result",
          "data": {
            "text/plain": [
              "'\\ufeffАдминистративный регламент\\r\\nФедеральной службы по надзору в сфере природопользования предоставления государственной услуги по организации и проведению государственной экологической экспертизы федерального уровня\\r\\nI. Общие положения\\r\\n*Предмет регулирования регламента*\\r\\n1. Административный регламент Федеральной службы по надзору в сфере природопользования предоставления государственной услуги по организации и проведению государственной экологической экспертизы федерального уровня (далее - Регламент) определяет сроки и последовательность административных процедур (действий) при предоставлении Федеральной службой по надзору в сфере природопользования (далее - Росприроднадзор) и ее территориальными органами государственной услуги по организации и проведению государственной экологической экспертизы федерального уровня (далее - государственная услуга), а также порядок взаимодействия между структурными подразделениями Росприроднадзора и территориальными органами Росприроднадзора, их должностн'"
            ],
            "application/vnd.google.colaboratory.intrinsic+json": {
              "type": "string"
            }
          },
          "metadata": {},
          "execution_count": 7
        }
      ]
    },
    {
      "cell_type": "code",
      "source": [
        "# предобработаем текст таким образом, чтобы его можно было бы поделить на чанки при помощи MarkdownHeaderTextSplitter\n",
        "def text_to_markdown(text):\n",
        "    # Добавляем заголовок 1 уровня на основе римских чисел (без переноса строки)\n",
        "    # и дублируем его строчкой ниже - иначе эта информация перенесется в метаданные, а порой она бывает полезной.\n",
        "    def replace_header1(match):\n",
        "        return f\"# {match.group(2)}\\n{match.group(2)}\"\n",
        "    '''Далее используем функцию re.sub из модуля регулярных выражений re для замены подстрок в строке text.\n",
        "    Шаблон регулярного выражения (I{1,3}|IV|V)\\. (.+) ищет римские числа от I до V в начале строки, за которыми следует точка и пробел.\n",
        "    Функция replace_header1 вызывается для каждого совпадения, и ее возвращаемое значение используется для замены найденной подстроки.\n",
        "    Флаг re.M позволяет ^ соответствовать началу каждой строки, а не только началу всего текста.'''\n",
        "    text = re.sub(r'^(I{1,3}|IV|V)\\. (.+)', replace_header1, text, flags=re.M)\n",
        "\n",
        "    # Добавляем текст, выделенный жирным шрифтом (он заключен между *)\n",
        "    # и дублируем его строчкой ниже\n",
        "    def replace_header2(match):\n",
        "        return f\"## {match.group(1)}\\n{match.group(1)}\"\n",
        "\n",
        "    text = re.sub(r'\\*([^\\*]+)\\*', replace_header2, text)\n",
        "\n",
        "    return text"
      ],
      "metadata": {
        "colab": {
          "base_uri": "https://localhost:8080/"
        },
        "id": "l-LAkL4OGyFG",
        "outputId": "fd965588-f4d2-4afd-df3e-51d923b3d9da"
      },
      "execution_count": 8,
      "outputs": [
        {
          "output_type": "stream",
          "name": "stderr",
          "text": [
            "<>:8: SyntaxWarning: invalid escape sequence '\\.'\n",
            "<>:8: SyntaxWarning: invalid escape sequence '\\.'\n",
            "/tmp/ipython-input-835367750.py:8: SyntaxWarning: invalid escape sequence '\\.'\n",
            "  Шаблон регулярного выражения (I{1,3}|IV|V)\\. (.+) ищет римские числа от I до V в начале строки, за которыми следует точка и пробел.\n"
          ]
        }
      ]
    },
    {
      "cell_type": "code",
      "source": [
        "markdown = text_to_markdown(database)                 # заполните необходимым значением\n",
        "print(markdown[:15000])"
      ],
      "metadata": {
        "colab": {
          "base_uri": "https://localhost:8080/"
        },
        "id": "Nym3k4Q7G1Yv",
        "outputId": "f7e897fb-663e-4891-9b74-ea908e114b7e"
      },
      "execution_count": 10,
      "outputs": [
        {
          "output_type": "stream",
          "name": "stdout",
          "text": [
            "﻿Административный регламент\r\n",
            "Федеральной службы по надзору в сфере природопользования предоставления государственной услуги по организации и проведению государственной экологической экспертизы федерального уровня\r\n",
            "# Общие положения\r\n",
            "Общие положения\r\n",
            "## Предмет регулирования регламента\n",
            "Предмет регулирования регламента\r\n",
            "1. Административный регламент Федеральной службы по надзору в сфере природопользования предоставления государственной услуги по организации и проведению государственной экологической экспертизы федерального уровня (далее - Регламент) определяет сроки и последовательность административных процедур (действий) при предоставлении Федеральной службой по надзору в сфере природопользования (далее - Росприроднадзор) и ее территориальными органами государственной услуги по организации и проведению государственной экологической экспертизы федерального уровня (далее - государственная услуга), а также порядок взаимодействия между структурными подразделениями Росприроднадзора и территориальными органами Росприроднадзора, их должностными лицами и заявителями при предоставлении государственной услуги.\r\n",
            "## Круг заявителей\n",
            "Круг заявителей\r\n",
            "2. Заявителями при предоставлении государственной услуги являются юридические и физические лица, индивидуальные предприниматели либо уполномоченные представители юридических и физических лиц, индивидуальных предпринимателей, обратившиеся с заявлением о предоставлении государственной услуги (далее - Заявитель).\r\n",
            "Уполномоченные представители юридических лиц, представляющие их интересы, могут действовать на основании доверенности, оформленной в соответствии с законодательством Российской Федерации и подписанной лицом, осуществляющим функции единоличного исполнительного органа юридического лица, либо нотариально заверенной копии такой доверенности.\r\n",
            "Уполномоченные представители физических лиц и индивидуальных предпринимателей, представляющие их интересы, могут действовать на основании доверенности, оформленной в соответствии с законодательством Российской Федерации и подписанной физическим лицом или индивидуальным предпринимателем соответственно, либо нотариально заверенной копии такой доверенности.\r\n",
            "В целях удостоверения личности Заявителя, а также его уполномоченного представителя, представление документа, удостоверяющего личность, либо копии такого документа, заверенной в соответствии с законодательством Российской Федерации, обязательно.\r\n",
            "При предоставлении государственной услуги правами и обязанностями Заявителя обладают следующие лица:\r\n",
            "2.1. В отношении объектов, указанных в подпунктах 1-3, 6 статьи 11 Федерального закона от 23.11.1995 № 174-ФЗ \"Об экологической экспертизе\" (Собрание законодательства Российской Федерации, 1995, № 48, ст. 4556; 2020, № 29, ст. 4504) (далее - Федеральный закон № 174-ФЗ) - лица, наделенные правами и обязанностями по разработке проектов нормативно-технических и инструктивно-методических документов в области охраны окружающей среды, утверждаемых органами государственной власти Российской Федерации, проектов федеральных целевых программ, предусматривающих строительство и эксплуатацию объектов хозяйственной деятельности, оказывающих воздействие на окружающую среду, в части размещения таких объектов с учетом режима охраны природных объектов, проектов соглашений о разделе продукции в соответствии с требованиями законодательства Российской Федерации, а также материалов комплексного экологического обследования участков территорий, обосновывающих придание этим территориям правового статуса зоны экологического бедствия или зоны чрезвычайной экологической ситуации;\r\n",
            "2.2. В отношении объектов, указанных в подпункте 4 статьи 11 Федерального закона № 174-ФЗ, - соискатели лицензии (лицензиаты), определенные Положением о лицензировании деятельности в области использования атомной энергии, утвержденным постановлением Правительства Российской Федерации от 29.03.2013 № 280 (Собрание законодательства Российской Федерации, 2013, № 14, ст. 1700; 2016, № 49, ст. 6915);\r\n",
            "2.3. В отношении объектов, указанных в подпункте 5 статьи 11 Федерального закона № 174-ФЗ, - юридическое лицо, индивидуальный предприниматель, являющееся заказчиком по подготовке проекта технической документации, а также осуществляющее подготовку документации по намечаемой деятельности в соответствии с требованиями, предъявляемыми к данному виду деятельности, и представляющее документацию по намечаемой деятельности на экологическую экспертизу;\r\n",
            "2.4. В отношении объектов, указанных в подпункте 7 статьи 11 Федерального закона № 174-ФЗ - лицо, планирующее осуществлять хозяйственную и (или) иную деятельность, а также лицо, отвечающее за подготовку документации, являющейся объектом государственной экологической экспертизы;\r\n",
            "В отношении объектов, указанных в подпунктах 7.1, 7.2, 7.4, 7.5, 7.7, 7.8, 7.9 статьи 11 Федерального закона № 174-ФЗ - лицо, определенное в качестве застройщика (технического заказчика) в соответствии с пунктами 16, 22 статьи 1 Градостроительного кодекса Российской Федерации (Собрание законодательства Российской Федерации, 2005, № 1, ст. 16; 2020, № 29, ст. 4504), а также лицо, отвечающее за подготовку документации, являющейся объектом государственной экологической экспертизы;\r\n",
            "2.5. В отношении объектов, указанных в подпункте 7.3 статьи 11 Федерального закона № 174-ФЗ - лицо, с которым заключен государственный или муниципальный контракт на создание искусственного земельного участка, либо лицо, с которым заключен договор о создании искусственного земельного участка.\r\n",
            "## Требования к порядку информирования о предоставлении государственной услуги\n",
            "Требования к порядку информирования о предоставлении государственной услуги\r\n",
            "3. Информирование по вопросам предоставления государственной услуги, сведений о ходе предоставления государственной услуги осуществляется специалистами Росприроднадзора и территориальных органов Росприроднадзора устно (лично, по телефону), письменно (путем направления ответов заказным почтовым отправлением, по электронной почте, факсимильной связью), посредством размещения информации на официальных сайтах Росприроднадзора и территориальных органов Росприроднадзора в информационно-телекоммуникационной сети \"Интернет\" (далее - Сайт), а также на Едином портале государственных и муниципальных услуг (функций) (далее - ЕПГУ).\r\n",
            "4. Справочная информация, в том числе место размещения и график работы, справочные телефоны структурных подразделений Росприроднадзора и территориальных органов Росприроднадзора, адрес Сайта, а также электронной почты и (или) формы обратной связи Росприроднадзора в информационно-телекоммуникационной сети \"Интернет\" размещается на информационных стендах, расположенных в помещениях Росприроднадзора и его территориальных органов Росприроднадзора, на Сайте, в федеральной государственной информационной системе \"Федеральный реестр государственных и муниципальных услуг (функций)\", созданной в соответствии с Положением о федеральной государственной информационной системе \"Федеральный реестр государственных и муниципальных услуг (функций)\", утвержденным постановлением Правительства Российской Федерации от 24.10.2011 № 861 (далее - федеральный реестр), и на ЕПГУ.\r\n",
            "# Стандарт предоставления государственной услуги\r\n",
            "Стандарт предоставления государственной услуги\r\n",
            "## Наименование государственной услуги\n",
            "Наименование государственной услуги\r\n",
            "5. Государственная услуга по организации и проведению государственной экологической экспертизы федерального уровня.\r\n",
            "## Наименование органа, предоставляющего государственную услугу\n",
            "Наименование органа, предоставляющего государственную услугу\r\n",
            "6. Государственная услуга предоставляется центральным аппаратом Росприроднадзора и территориальными органами Росприроднадзора.\r\n",
            "7. Территориальные органы Росприроднадзора предоставляют государственную услугу на основании поручений центрального аппарата Росприроднадзора, за исключением следующих объектов, при предоставлении государственной услуги в отношении которых поручения центрального аппарата Росприроднадзора не требуются:\r\n",
            "7.1. Материалов общего допустимого улова в районе добычи (вылова) водных биоресурсов во внутренних морских водах Российской Федерации, территориальном море Российской Федерации, на континентальном шельфе Российской Федерации и в исключительной экономической зоне Российской Федерации (кроме материалов общего допустимого улова морских млекопитающих, а также их корректировки);\r\n",
            "7.2. Проектной документации объектов, строительство, реконструкцию которых предполагается осуществлять в границах Байкальской природной территории (кроме объектов, оказывающих негативное воздействие на окружающую среду и относящихся в соответствии с требованиями законодательства Российской Федерации в области охраны окружающей среды к объектам I, II и III категорий);\r\n",
            "7.3. Планов предупреждения и ликвидации разливов нефти и нефтепродуктов, отнесенных к объектам государственной экологической экспертизы федерального уровня в соответствии с требованиями абзаца 6 статьи 31 Федерального закона от 30.11.1995 № 187-ФЗ \"О континентальном шельфе Российской Федерации\" (Собрание законодательства Российской Федерации, 1995, № 49, ст. 4694; 2019, № 51, ст. 7483), а также пункта 4 статьи 34 Федерального закона от 31.07.1998 № 155-ФЗ \"О внутренних морских водах, территориальном море и прилежащей зоне Российской Федерации\" (Собрание законодательства Российской Федерации, 1998, № 31, ст. 3833; 2019, № 51, ст. 7483).\r\n",
            "8. Запрещается требовать от Заявителя осуществления действий, в том числе согласований, необходимых для получения государственной услуги и связанных с обращением в иные государственные органы и организации, за исключением получения услуг, включенных в перечень услуг, которые являются необходимыми и обязательными для предоставления федеральными органами исполнительной власти, Государственной корпорацией по атомной энергии \"Росатом\" государственных услуг и предоставляются организациями, участвующими в предоставлении государственных услуг, утвержденный постановлением Правительства Российской Федерации от 06.05.2011 № 352 (Собрание законодательства Российской Федерации, 2011, № 20, ст. 2829; 2020, № 1, ст. 51).\r\n",
            "## Описание результата предоставления государственной услуги\n",
            "Описание результата предоставления государственной услуги\r\n",
            "9. Результатом предоставления государственной услуги является выдача заключения государственной экологической экспертизы, отвечающего требованиям статьи 18 Федерального закона № 174-ФЗ.\r\n",
            "Срок предоставления государственной услуги, в том числе с учетом необходимости обращения в организации, участвующие в предоставлении государственной услуги, срок приостановления предоставления государственной услуги в случае, если возможность приостановления предусмотрена законодательством Российской Федерации, срок выдачи (направления) документов, являющихся результатом предоставления государственной услуги;\r\n",
            "10. Срок проведения государственной экологической экспертизы устанавливается в приказе или решении об организации и проведении государственной экологической экспертизы Росприроднадзора (территориального органа Росприроднадзора) и не должен превышать 2 месяца с начала ее проведения, определенной в соответствии с датой приказа или решения об организации и проведении государственной экологической экспертизы, указанного в пункте 94 Регламента.\r\n",
            "11. Срок проведения государственной экологической экспертизы проектной документации объектов инфраструктуры территорий опережающего социально-экономического развития, указанных в части 1 статьи 27 Федерального закона от 29.12.2014 № 473-ФЗ \"О территориях опережающего социально-экономического развития в Российской Федерации\" (Собрание законодательства Российской Федерации, 2015, № 1, ст. 26; 2020, № 29, ст. 4504) не может превышать 45 календарных дней после ее предварительной оплаты в полном объеме.\r\n",
            "12. Срок проведения государственной экологической экспертизы проектной документации объектов, находящихся на территории Калининградской области, в случаях, указанных в части 1 статьи 19.2 Федерального закона от 10.01.2006 № 16-ФЗ \"Об Особой экономической зоне в Калининградской области и о внесении изменений в некоторые законодательные акты Российской Федерации\" (Собрание законодательства Российской Федерации, 2006, № 3, ст. 280; 2018, № 31, ст. 4859) (далее - Федеральный закон № 16-ФЗ), не может превышать 45 календарных дней после ее предварительной оплаты и приемки комплекта заявительных документов в полном объеме.\r\n",
            "13. Срок проведения государственной экологической экспертизы, за исключением объектов, указанных в пункте 11 Регламента, может быть продлен приказом или решением Росприроднадзора (территориального органа Росприроднадзора) на срок не более месяца в порядке, предусмотренном пунктами 130-134 Регламента, если иное не предусмотрено Федеральным законом № 174-ФЗ, по заявлению заявителя.\r\n",
            "Срок проведения государственной экологической экспертизы объектов, находящихся на территории Калининградской области, в соответствии с частью 2 статьи 19.2 Федерального закона № 16-ФЗ может быть продлен приказом или решением Росприроднадзора (территориального органа Росприроднадзора) не более чем на 30 календарных дней в порядке, предусмотренном пунктами 130-134 Регламента, если иное не предусмотрено Федеральным законом № 174-ФЗ, по заявлению заявителя.\r\n",
            "14. Срок проверки комплектности заявления и документации, указанных в пунктах 19, 20 Регламента, составляет 7 календарных дней со дня их регистрации в порядке, предусмотренном пунктами 34, 35 Регламента.\r\n",
            "15. Срок оплаты проведения государственной экологической экспертизы составляет 30 календарных дней со дня получения Заявителем соответствующего уведомления.\r\n",
            "16. Срок выдачи (направления) документа, являющегося результатом предоставления государственной услуги, составляет 5 календарных дней с даты завершения государственной экологической экспертизы, определенной в соответствии с приказом или решением об организации и проведении государственной экологической экспертизы.\r\n",
            "17. Срок направления уведомления об отказе в предоставлении государственной услуги по основаниям, указанным в пункте 28 Регламента, составляет не более 7 рабочих дней с момента наступления соответствующего основания.\r\n",
            "## Нормативные правовые акты, регулирующие предоставление государственной услуги\n",
            "Нормативные правовые акты, регулирующие предоставление государственной услуги\r\n",
            "18. Перечень нормативных правовых актов, регулирующих предоставление государственной услуги (с указанием их реквизитов и источников официального опубликования), размещается в местах приема документов, на Сайте, а также в федеральном реестре и на ЕПГУ.\r\n",
            "## Исчерпывающий перечень документов, необходимых в соответствии с нормативными правовыми актами для предоставления государственной услуги и услуг, которые являются необходимыми и обязательными для предоставления государственной услуги, подлежащих представлению Заявителем, способы их получения Заявителем, в том числе в электронной форме, порядок их представления\n",
            "Исчерпывающий перечень документов, необходимых в соответствии с нормативными пр\n"
          ]
        }
      ]
    },
    {
      "cell_type": "code",
      "source": [
        "# Инструкция в system\n",
        "system = load_document_text('https://docs.google.com/document/d/1nZ_1mYDuyH9qxjKJFW80uV_s90IPuLCNs2biISBNuAo/edit?usp=sharing')"
      ],
      "metadata": {
        "id": "OO8U8QbPIVvG"
      },
      "execution_count": 11,
      "outputs": []
    },
    {
      "cell_type": "code",
      "source": [
        "def num_tokens_from_string(string: str, encoding_name: str) -> int:\n",
        "      \"\"\"Возвращает количество токенов в строке\"\"\"\n",
        "      encoding = tiktoken.get_encoding(encoding_name)\n",
        "      num_tokens = len(encoding.encode(string))\n",
        "      return num_tokens\n",
        "\n",
        "def split_text(text, max_count):\n",
        "    headers_to_split_on = [\n",
        "        (\"#\", \"Header 1\"),\n",
        "        (\"##\", \"Header 2\"),\n",
        "        (\"###\", \"Header 3\"),\n",
        "    ]\n",
        "\n",
        "    markdown_splitter = MarkdownHeaderTextSplitter(headers_to_split_on=headers_to_split_on)\n",
        "    fragments = markdown_splitter.split_text(text)\n",
        "\n",
        "    # Подсчет токенов для каждого фрагмента и построение графика\n",
        "    fragment_token_counts = [num_tokens_from_string(fragment.page_content, \"cl100k_base\") for fragment in fragments]\n",
        "    plt.hist(fragment_token_counts, bins=20, alpha=0.5, label='Fragments')\n",
        "    plt.title('Distribution of Fragment Token Counts')\n",
        "    plt.xlabel('Token Count')\n",
        "    plt.ylabel('Frequency')\n",
        "    plt.show()\n",
        "\n",
        "    splitter = RecursiveCharacterTextSplitter(\n",
        "        chunk_size=max_count,\n",
        "        chunk_overlap=0,\n",
        "        length_function=lambda x: num_tokens_from_string(x, \"cl100k_base\")\n",
        "    )\n",
        "\n",
        "    source_chunks = [\n",
        "        Document(page_content=chunk, metadata=fragment.metadata)\n",
        "        for fragment in fragments\n",
        "        for chunk in splitter.split_text(fragment.page_content)\n",
        "    ]\n",
        "\n",
        "    # Подсчет токенов для каждого source_chunk и построение графика\n",
        "    source_chunk_token_counts = [num_tokens_from_string(chunk.page_content, \"cl100k_base\") for chunk in source_chunks]\n",
        "    plt.hist(source_chunk_token_counts, bins=20, alpha=0.5, label='Source Chunks')\n",
        "    plt.title('Distribution of Source Chunk Token Counts')\n",
        "    plt.xlabel('Token Count')\n",
        "    plt.ylabel('Frequency')\n",
        "    plt.show()\n",
        "\n",
        "    return source_chunks"
      ],
      "metadata": {
        "id": "aHrwKwWDJLqx"
      },
      "execution_count": 22,
      "outputs": []
    },
    {
      "cell_type": "code",
      "source": [
        "source_chunks = split_text(database, max_count=800)                          # заполните необходимыми значениями\n",
        "print(\"Общее количество чанков: \",len(source_chunks))\n",
        "print(\"Первый чанк \", source_chunks[0])"
      ],
      "metadata": {
        "colab": {
          "base_uri": "https://localhost:8080/",
          "height": 1000
        },
        "id": "cre4j_NHJQM5",
        "outputId": "49f891b6-2a97-4ccf-dab1-4318ba5688dd"
      },
      "execution_count": 25,
      "outputs": [
        {
          "output_type": "display_data",
          "data": {
            "text/plain": [
              "<Figure size 640x480 with 1 Axes>"
            ],
            "image/png": "[encoded data removed]"
          },
          "metadata": {}
        },
        {
          "output_type": "display_data",
          "data": {
            "text/plain": [
              "<Figure size 640x480 with 1 Axes>"
            ],
            "image/png": "[encoded data removed]"
          },
          "metadata": {}
        },
        {
          "output_type": "stream",
          "name": "stdout",
          "text": [
            "Общее количество чанков:  62\n",
            "Первый чанк  page_content='Административный регламент\n",
            "Федеральной службы по надзору в сфере природопользования предоставления государственной услуги по организации и проведению государственной экологической экспертизы федерального уровня\n",
            "I. Общие положения\n",
            "*Предмет регулирования регламента*\n",
            "1. Административный регламент Федеральной службы по надзору в сфере природопользования предоставления государственной услуги по организации и проведению государственной экологической экспертизы федерального уровня (далее - Регламент) определяет сроки и последовательность административных процедур (действий) при предоставлении Федеральной службой по надзору в сфере природопользования (далее - Росприроднадзор) и ее территориальными органами государственной услуги по организации и проведению государственной экологической экспертизы федерального уровня (далее - государственная услуга), а также порядок взаимодействия между структурными подразделениями Росприроднадзора и территориальными органами Росприроднадзора, их должностными лицами и заявителями при предоставлении государственной услуги.\n",
            "*Круг заявителей*\n",
            "2. Заявителями при предоставлении государственной услуги являются юридические и физические лица, индивидуальные предприниматели либо уполномоченные представители юридических и физических лиц, индивидуальных предпринимателей, обратившиеся с заявлением о предоставлении государственной услуги (далее - Заявитель).\n",
            "Уполномоченные представители юридических лиц, представляющие их интересы, могут действовать на основании доверенности, оформленной в соответствии с законодательством Российской Федерации и подписанной лицом, осуществляющим функции единоличного исполнительного органа юридического лица, либо нотариально заверенной копии такой доверенности.'\n"
          ]
        }
      ]
    },
    {
      "cell_type": "code",
      "source": [
        "# Инициализирум модель эмбеддингов\n",
        "embeddings = OpenAIEmbeddings()\n",
        "\n",
        "# Создадим индексную базу из разделенных фрагментов текста\n",
        "db = FAISS.from_documents(source_chunks, embeddings)"
      ],
      "metadata": {
        "id": "VDQLuIKIUldS"
      },
      "execution_count": 26,
      "outputs": []
    },
    {
      "cell_type": "code",
      "source": [
        "def insert_newlines(text: str, max_len: int = 170) -> str:\n",
        "    \"\"\"\n",
        "    Функция разбивает длинный текст на строки определенной максимальной длины.\n",
        "    \"\"\"\n",
        "    words = text.split()\n",
        "    lines = []\n",
        "    current_line = \"\"\n",
        "    for word in words:\n",
        "        if len(current_line + \" \" + word) > max_len:\n",
        "            lines.append(current_line)\n",
        "            current_line = \"\"\n",
        "        current_line += \" \" + word\n",
        "    lines.append(current_line)\n",
        "    return \"\\n\".join(lines)"
      ],
      "metadata": {
        "id": "w0-HSrVfU73R"
      },
      "execution_count": 27,
      "outputs": []
    },
    {
      "cell_type": "code",
      "source": [
        "def answer_index(system, search_query, topic, search_index, verbose=0):\n",
        "    # Поиск релевантных отрезков из базы знаний по вопросу пользователя\n",
        "    docs = search_index.similarity_search(search_query, k=3)\n",
        "    if verbose:\n",
        "        print('\\n ===========================================: ')\n",
        "\n",
        "    message_content = re.sub(r'\\n{2}', ' ', '\\n '.join([f'\\nОтрывок документа №{i+1}\\n=====================' + doc.page_content + '\\n' for i, doc in enumerate(docs)]))\n",
        "    if verbose:\n",
        "        print('message_content :\\n ======================================== \\n', message_content)\n",
        "\n",
        "    messages = [\n",
        "        {\"role\": \"system\", \"content\": system},\n",
        "        {\"role\": \"user\", \"content\": f\"Ответь на вопрос пользователя. Документы с информацией для ответа клиенту: {message_content}\\n\\n{topic}\"}\n",
        "    ]\n",
        "\n",
        "    if verbose:\n",
        "        print('\\n ===========================================: ')\n",
        "\n",
        "    completion = client.chat.completions.create(\n",
        "        model=\"gpt-4o-mini\",                                      # заполните необходимыми значениями\n",
        "        messages=messages,\n",
        "        temperature=0.5                                   # заполните необходимыми значениями\n",
        "    )\n",
        "    answer = completion.choices[0].message.content\n",
        "    return answer"
      ],
      "metadata": {
        "id": "oH5DmNpAU9ca"
      },
      "execution_count": 31,
      "outputs": []
    },
    {
      "cell_type": "code",
      "source": [
        "def summarize_questions(dialog):\n",
        "    \"\"\"\n",
        "    Функция возвращает саммаризированный текст диалога.\n",
        "    \"\"\"\n",
        "    messages = [\n",
        "        {\"role\": \"system\", \"content\": \"Ты - нейро-саммаризатор. Твоя задача - саммаризировать диалог, который тебе пришел. Если пользователь назвал свое имя, обязательно отрази его в саммаризированном диалоге\"},\n",
        "        {\"role\": \"user\", \"content\": \"Саммаризируй следующий диалог консультанта и пользователя: \" + \" \".join(dialog)}\n",
        "    ]\n",
        "\n",
        "    completion = client.chat.completions.create(\n",
        "        model=\"gpt-4o-mini\",      # заполните необходимыми значениями\n",
        "        messages=messages,\n",
        "        temperature=0,          # Используем более низкую температуру для более определенной суммаризации\n",
        "    )\n",
        "\n",
        "    return completion.choices[0].message.content"
      ],
      "metadata": {
        "id": "p85XzopHVIQa"
      },
      "execution_count": 32,
      "outputs": []
    },
    {
      "cell_type": "code",
      "source": [
        "def answer_user_question_dialog(system, db, user_question, question_history):\n",
        "    \"\"\"\n",
        "    Функция возвращает ответ на вопрос пользователя.\n",
        "    \"\"\"\n",
        "    summarized_history = \"\"\n",
        "    # Если в истории более одного вопроса, применяем суммаризацию\n",
        "    if len(question_history) > 0:\n",
        "        summarized_history = \"Вот саммаризированный предыдущий диалог с пользователем: \" +summarize_questions([q + ' ' + (a if a else '') for q, a in question_history])\n",
        "\n",
        "    topic = summarized_history + \" Актуальный вопрос пользователя: \" + user_question\n",
        "\n",
        "    # Получаем ответ, используя только user_question для поиска в базе данных\n",
        "    answer_text = answer_index(system, user_question, topic, db)\n",
        "\n",
        "    question_history.append((user_question, answer_text if answer_text else ''))\n",
        "    # Выводим саммаризированный текст, который видит модель\n",
        "    if summarized_history:\n",
        "        print('****************************')\n",
        "        print(summarized_history)\n",
        "        print('****************************')\n",
        "\n",
        "    return answer_text"
      ],
      "metadata": {
        "id": "CvzIJ0LzVQki"
      },
      "execution_count": 34,
      "outputs": []
    },
    {
      "cell_type": "code",
      "source": [
        "def run_dialog(system_doc_url, knowledge_base_url):\n",
        "    \"\"\"\n",
        "    Функция запускает диалог между пользователем и нейро-консультантом.\n",
        "    \"\"\"\n",
        "    #список кортежей, где каждый кортеж содержит пару вопрос-ответ, для отслеживания истории вопросов и ответов во время сессии диалога.\n",
        "    question_history = []\n",
        "    while True:\n",
        "        user_question = input('Пользователь: ')\n",
        "        if user_question.lower() == 'stop':\n",
        "            break\n",
        "        answer = answer_user_question_dialog(system_doc_url, knowledge_base_url, user_question, question_history)\n",
        "        print('Консультант:', insert_newlines(answer))\n"
      ],
      "metadata": {
        "id": "eqHReeJuVYKq"
      },
      "execution_count": 35,
      "outputs": []
    },
    {
      "cell_type": "code",
      "source": [
        "run_dialog(system, db)"
      ],
      "metadata": {
        "colab": {
          "base_uri": "https://localhost:8080/"
        },
        "id": "LEF8CPK1Vbnr",
        "outputId": "33b097ad-fbc2-4f41-a25b-58e00747ddb9"
      },
      "execution_count": null,
      "outputs": [
        {
          "output_type": "stream",
          "name": "stdout",
          "text": [
            "Пользователь: привет\n",
            "Консультант:  Здравствуйте! Как я могу вам помочь? У вас есть вопросы по Регламенту по проведению государственной экологической экспертизы?\n",
            "Пользователь: да, как должны оснащаться помещения которые предоставляют государственные услуги\n",
            "****************************\n",
            "Вот саммаризированный предыдущий диалог с пользователем: Пользователь приветствует консультанта, который предлагает помощь и спрашивает, есть ли у пользователя вопросы по Регламенту проведения государственной экологической экспертизы.\n",
            "****************************\n",
            "Консультант:  Согласно п. 35 Регламента, требования к помещениям, в которых предоставляется государственная услуга, включают оснащение залов ожидания, мест для заполнения запросов о\n",
            " предоставлении государственной услуги, а также информационных стендов с образцами их заполнения и перечнем необходимых документов. Помещения должны обеспечивать\n",
            " доступность для инвалидов в соответствии с законодательством Российской Федерации о социальной защите инвалидов. Например, в п. 40 указано, что должны быть созданы\n",
            " условия для беспрепятственного доступа к объектам, а также обеспечено размещение необходимого оборудования и носителей информации. Дополнительно, в п. 37 указано, что\n",
            " помещения должны быть оснащены табличками с указанием фамилии, имени, отчества (при наличии) должностного лица, ответственного за работу с Заявителями, а также телефоном\n",
            " и факсом. Если у вас есть дополнительные вопросы или уточнения, пожалуйста, дайте знать!\n"
          ]
        }
      ]
    }
  ]
}