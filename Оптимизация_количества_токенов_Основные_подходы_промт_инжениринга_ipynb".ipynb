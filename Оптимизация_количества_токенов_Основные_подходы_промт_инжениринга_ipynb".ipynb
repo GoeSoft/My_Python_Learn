{
  "nbformat": 4,
  "nbformat_minor": 0,
  "metadata": {
    "colab": {
      "provenance": [],
      "include_colab_link": true
    },
    "kernelspec": {
      "name": "python3",
      "display_name": "Python 3"
    },
    "language_info": {
      "name": "python"
    }
  },
  "cells": [
    {
      "cell_type": "markdown",
      "metadata": {
        "id": "view-in-github",
        "colab_type": "text"
      },
      "source": [
        "<a href=\"https://colab.research.google.com/github/GoeSoft/My_Python_Learn/blob/main/%D0%9E%D0%BF%D1%82%D0%B8%D0%BC%D0%B8%D0%B7%D0%B0%D1%86%D0%B8%D1%8F_%D0%BA%D0%BE%D0%BB%D0%B8%D1%87%D0%B5%D1%81%D1%82%D0%B2%D0%B0_%D1%82%D0%BE%D0%BA%D0%B5%D0%BD%D0%BE%D0%B2_%D0%9E%D1%81%D0%BD%D0%BE%D0%B2%D0%BD%D1%8B%D0%B5_%D0%BF%D0%BE%D0%B4%D1%85%D0%BE%D0%B4%D1%8B_%D0%BF%D1%80%D0%BE%D0%BC%D1%82_%D0%B8%D0%BD%D0%B6%D0%B5%D0%BD%D0%B8%D1%80%D0%B8%D0%BD%D0%B3%D0%B0_ipynb%22.ipynb\" target=\"_parent\"><img src=\"https://colab.research.google.com/assets/colab-badge.svg\" alt=\"Open In Colab\"/></a>"
      ]
    },
    {
      "cell_type": "code",
      "source": [
        "!pip install google-api-python-client openai numpy tiktoken beautifulsoup4 lxml"
      ],
      "metadata": {
        "id": "NEDATB08xyvR",
        "colab": {
          "base_uri": "https://localhost:8080/"
        },
        "outputId": "d99f88e1-f439-4601-c278-76aca678d5fb"
      },
      "execution_count": 1,
      "outputs": [
        {
          "output_type": "stream",
          "name": "stdout",
          "text": [
            "Requirement already satisfied: google-api-python-client in /usr/local/lib/python3.12/dist-packages (2.182.0)\n",
            "Requirement already satisfied: openai in /usr/local/lib/python3.12/dist-packages (1.108.0)\n",
            "Requirement already satisfied: numpy in /usr/local/lib/python3.12/dist-packages (2.0.2)\n",
            "Requirement already satisfied: tiktoken in /usr/local/lib/python3.12/dist-packages (0.11.0)\n",
            "Requirement already satisfied: beautifulsoup4 in /usr/local/lib/python3.12/dist-packages (4.13.5)\n",
            "Requirement already satisfied: lxml in /usr/local/lib/python3.12/dist-packages (5.4.0)\n",
            "Requirement already satisfied: httplib2<1.0.0,>=0.19.0 in /usr/local/lib/python3.12/dist-packages (from google-api-python-client) (0.31.0)\n",
            "Requirement already satisfied: google-auth!=2.24.0,!=2.25.0,<3.0.0,>=1.32.0 in /usr/local/lib/python3.12/dist-packages (from google-api-python-client) (2.38.0)\n",
            "Requirement already satisfied: google-auth-httplib2<1.0.0,>=0.2.0 in /usr/local/lib/python3.12/dist-packages (from google-api-python-client) (0.2.0)\n",
            "Requirement already satisfied: google-api-core!=2.0.*,!=2.1.*,!=2.2.*,!=2.3.0,<3.0.0,>=1.31.5 in /usr/local/lib/python3.12/dist-packages (from google-api-python-client) (2.25.1)\n",
            "Requirement already satisfied: uritemplate<5,>=3.0.1 in /usr/local/lib/python3.12/dist-packages (from google-api-python-client) (4.2.0)\n",
            "Requirement already satisfied: anyio<5,>=3.5.0 in /usr/local/lib/python3.12/dist-packages (from openai) (4.10.0)\n",
            "Requirement already satisfied: distro<2,>=1.7.0 in /usr/local/lib/python3.12/dist-packages (from openai) (1.9.0)\n",
            "Requirement already satisfied: httpx<1,>=0.23.0 in /usr/local/lib/python3.12/dist-packages (from openai) (0.28.1)\n",
            "Requirement already satisfied: jiter<1,>=0.4.0 in /usr/local/lib/python3.12/dist-packages (from openai) (0.11.0)\n",
            "Requirement already satisfied: pydantic<3,>=1.9.0 in /usr/local/lib/python3.12/dist-packages (from openai) (2.11.9)\n",
            "Requirement already satisfied: sniffio in /usr/local/lib/python3.12/dist-packages (from openai) (1.3.1)\n",
            "Requirement already satisfied: tqdm>4 in /usr/local/lib/python3.12/dist-packages (from openai) (4.67.1)\n",
            "Requirement already satisfied: typing-extensions<5,>=4.11 in /usr/local/lib/python3.12/dist-packages (from openai) (4.15.0)\n",
            "Requirement already satisfied: regex>=2022.1.18 in /usr/local/lib/python3.12/dist-packages (from tiktoken) (2024.11.6)\n",
            "Requirement already satisfied: requests>=2.26.0 in /usr/local/lib/python3.12/dist-packages (from tiktoken) (2.32.4)\n",
            "Requirement already satisfied: soupsieve>1.2 in /usr/local/lib/python3.12/dist-packages (from beautifulsoup4) (2.8)\n",
            "Requirement already satisfied: idna>=2.8 in /usr/local/lib/python3.12/dist-packages (from anyio<5,>=3.5.0->openai) (3.10)\n",
            "Requirement already satisfied: googleapis-common-protos<2.0.0,>=1.56.2 in /usr/local/lib/python3.12/dist-packages (from google-api-core!=2.0.*,!=2.1.*,!=2.2.*,!=2.3.0,<3.0.0,>=1.31.5->google-api-python-client) (1.70.0)\n",
            "Requirement already satisfied: protobuf!=3.20.0,!=3.20.1,!=4.21.0,!=4.21.1,!=4.21.2,!=4.21.3,!=4.21.4,!=4.21.5,<7.0.0,>=3.19.5 in /usr/local/lib/python3.12/dist-packages (from google-api-core!=2.0.*,!=2.1.*,!=2.2.*,!=2.3.0,<3.0.0,>=1.31.5->google-api-python-client) (5.29.5)\n",
            "Requirement already satisfied: proto-plus<2.0.0,>=1.22.3 in /usr/local/lib/python3.12/dist-packages (from google-api-core!=2.0.*,!=2.1.*,!=2.2.*,!=2.3.0,<3.0.0,>=1.31.5->google-api-python-client) (1.26.1)\n",
            "Requirement already satisfied: cachetools<6.0,>=2.0.0 in /usr/local/lib/python3.12/dist-packages (from google-auth!=2.24.0,!=2.25.0,<3.0.0,>=1.32.0->google-api-python-client) (5.5.2)\n",
            "Requirement already satisfied: pyasn1-modules>=0.2.1 in /usr/local/lib/python3.12/dist-packages (from google-auth!=2.24.0,!=2.25.0,<3.0.0,>=1.32.0->google-api-python-client) (0.4.2)\n",
            "Requirement already satisfied: rsa<5,>=3.1.4 in /usr/local/lib/python3.12/dist-packages (from google-auth!=2.24.0,!=2.25.0,<3.0.0,>=1.32.0->google-api-python-client) (4.9.1)\n",
            "Requirement already satisfied: pyparsing<4,>=3.0.4 in /usr/local/lib/python3.12/dist-packages (from httplib2<1.0.0,>=0.19.0->google-api-python-client) (3.2.4)\n",
            "Requirement already satisfied: certifi in /usr/local/lib/python3.12/dist-packages (from httpx<1,>=0.23.0->openai) (2025.8.3)\n",
            "Requirement already satisfied: httpcore==1.* in /usr/local/lib/python3.12/dist-packages (from httpx<1,>=0.23.0->openai) (1.0.9)\n",
            "Requirement already satisfied: h11>=0.16 in /usr/local/lib/python3.12/dist-packages (from httpcore==1.*->httpx<1,>=0.23.0->openai) (0.16.0)\n",
            "Requirement already satisfied: annotated-types>=0.6.0 in /usr/local/lib/python3.12/dist-packages (from pydantic<3,>=1.9.0->openai) (0.7.0)\n",
            "Requirement already satisfied: pydantic-core==2.33.2 in /usr/local/lib/python3.12/dist-packages (from pydantic<3,>=1.9.0->openai) (2.33.2)\n",
            "Requirement already satisfied: typing-inspection>=0.4.0 in /usr/local/lib/python3.12/dist-packages (from pydantic<3,>=1.9.0->openai) (0.4.1)\n",
            "Requirement already satisfied: charset_normalizer<4,>=2 in /usr/local/lib/python3.12/dist-packages (from requests>=2.26.0->tiktoken) (3.4.3)\n",
            "Requirement already satisfied: urllib3<3,>=1.21.1 in /usr/local/lib/python3.12/dist-packages (from requests>=2.26.0->tiktoken) (2.5.0)\n",
            "Requirement already satisfied: pyasn1<0.7.0,>=0.6.1 in /usr/local/lib/python3.12/dist-packages (from pyasn1-modules>=0.2.1->google-auth!=2.24.0,!=2.25.0,<3.0.0,>=1.32.0->google-api-python-client) (0.6.1)\n"
          ]
        }
      ]
    },
    {
      "cell_type": "code",
      "source": [
        "import os\n",
        "from google.colab import userdata\n",
        "\n",
        "# Загружаем секретный ключ из Colab Secrets\n",
        "os.environ[\"OPENAI_API_KEY\"] = userdata.get('OPENAI_API_KEY')"
      ],
      "metadata": {
        "id": "hwCVb_3EW1J0"
      },
      "execution_count": 2,
      "outputs": []
    },
    {
      "cell_type": "code",
      "source": [
        "import requests\n",
        "from bs4 import BeautifulSoup\n",
        "\n",
        "# Публичная ссылка на Google Doc (в режиме \"Любой с ссылкой может просматривать\")\n",
        "doc_url = \"https://docs.google.com/document/d/11MU3SnVbwL_rM-5fIC14Lc3XnbAV4rY1Zd_kpcMuH4Y\"\n",
        "\n",
        "# Экспорт документа как HTML\n",
        "export_url = doc_url + \"/export?format=html\"\n",
        "\n",
        "response = requests.get(export_url)\n",
        "response.raise_for_status()\n",
        "\n",
        "# Парсим HTML и извлекаем текст\n",
        "soup = BeautifulSoup(response.content, 'html.parser')\n",
        "text = soup.get_text(separator=\"\\n\", strip=True)\n",
        "\n",
        "print(f\"Извлечено {len(text)} символов из документа.\")"
      ],
      "metadata": {
        "colab": {
          "base_uri": "https://localhost:8080/"
        },
        "id": "PQoq0_bnW2_7",
        "outputId": "2a8cfa62-4fcc-4bea-d42c-6ce4d430267a"
      },
      "execution_count": 3,
      "outputs": [
        {
          "output_type": "stream",
          "name": "stdout",
          "text": [
            "Извлечено 93704 символов из документа.\n"
          ]
        }
      ]
    },
    {
      "cell_type": "code",
      "source": [
        "import tiktoken\n",
        "\n",
        "def split_text_into_chunks(text, max_tokens=500):\n",
        "    tokenizer = tiktoken.get_encoding(\"cl100k_base\")\n",
        "    tokens = tokenizer.encode(text)\n",
        "    chunks = []\n",
        "    for i in range(0, len(tokens), max_tokens):\n",
        "        chunk_tokens = tokens[i:i + max_tokens]\n",
        "        chunk_text = tokenizer.decode(chunk_tokens)\n",
        "        chunks.append(chunk_text)\n",
        "    return chunks\n",
        "\n",
        "chunks = split_text_into_chunks(text, max_tokens=400)\n",
        "print(f\"Разбито на {len(chunks)} чанков.\")"
      ],
      "metadata": {
        "colab": {
          "base_uri": "https://localhost:8080/"
        },
        "id": "hnKYybCsW5U7",
        "outputId": "48120dad-8834-4475-b35c-53414f1208a9"
      },
      "execution_count": 4,
      "outputs": [
        {
          "output_type": "stream",
          "name": "stdout",
          "text": [
            "Разбито на 108 чанков.\n"
          ]
        }
      ]
    },
    {
      "cell_type": "code",
      "source": [
        "from openai import OpenAI\n",
        "import numpy as np\n",
        "\n",
        "client = OpenAI()\n",
        "\n",
        "def get_embedding(text, model=\"text-embedding-ada-002\"):\n",
        "    text = text.replace(\"\\n\", \" \")\n",
        "    return client.embeddings.create(input=[text], model=model).data[0].embedding\n",
        "\n",
        "# Генерация эмбеддингов\n",
        "embeddings = []\n",
        "for i, chunk in enumerate(chunks):\n",
        "    emb = get_embedding(chunk)\n",
        "    embeddings.append(emb)\n",
        "    if (i + 1) % 10 == 0:\n",
        "        print(f\"Обработано {i + 1} чанков...\")\n",
        "\n",
        "embeddings = np.array(embeddings)\n",
        "print(\"Эмбеддинги созданы.\")"
      ],
      "metadata": {
        "colab": {
          "base_uri": "https://localhost:8080/"
        },
        "id": "9X_sIZSwW8RK",
        "outputId": "381cfaa1-50cf-4ebb-f8c1-52f382a93637"
      },
      "execution_count": 5,
      "outputs": [
        {
          "output_type": "stream",
          "name": "stdout",
          "text": [
            "Обработано 10 чанков...\n",
            "Обработано 20 чанков...\n",
            "Обработано 30 чанков...\n",
            "Обработано 40 чанков...\n",
            "Обработано 50 чанков...\n",
            "Обработано 60 чанков...\n",
            "Обработано 70 чанков...\n",
            "Обработано 80 чанков...\n",
            "Обработано 90 чанков...\n",
            "Обработано 100 чанков...\n",
            "Эмбеддинги созданы.\n"
          ]
        }
      ]
    },
    {
      "cell_type": "code",
      "source": [
        "def cosine_similarity(a, b):\n",
        "    return np.dot(a, b) / (np.linalg.norm(a) * np.linalg.norm(b))\n",
        "\n",
        "def find_relevant_chunks(query, top_k=3):\n",
        "    query_emb = get_embedding(query)\n",
        "    scores = [cosine_similarity(query_emb, emb) for emb in embeddings]\n",
        "    top_indices = np.argsort(scores)[-top_k:][::-1]\n",
        "    return [chunks[i] for i in top_indices]"
      ],
      "metadata": {
        "id": "si0Nm5vJW9ky"
      },
      "execution_count": 6,
      "outputs": []
    },
    {
      "cell_type": "code",
      "source": [
        "def ask_insurance_question(question):\n",
        "    relevant_chunks = find_relevant_chunks(question, top_k=3)\n",
        "    context = \"\\n\\n\".join(relevant_chunks)\n",
        "\n",
        "\n",
        "    system_prompt = (\n",
        "        \"Вы — эксперт по страхованию гражданской ответственности в авиационной сфере, включая аэропорты и производителей авиационной техники. \"\n",
        "        \"Ваши ответы должны быть точными, профессиональными и основываться исключительно на внутренних знаниях. \"\n",
        "        \"НИКОГДА не упоминайте документы, источники, выдержки или то, что информация получена из внешнего текста. \"\n",
        "        \"Отвечайте так, будто вы обладаете этими знаниями по умолчанию. \"\n",
        "        \"Если вопрос выходит за рамки вашей компетенции или информации, чётко скажите: \"\n",
        "        \"'По данному вопросу у меня нет информации.'\"\n",
        "    )\n",
        "\n",
        "\n",
        "    user_prompt = (\n",
        "        f\"Контекст (для внутреннего использования, не упоминать в ответе):\\n{context}\\n\\n\"\n",
        "        f\"Вопрос клиента: {question}\\n\\n\"\n",
        "        \"Дайте чёткий, профессиональный ответ без ссылок на источники.\"\n",
        "    )\n",
        "\n",
        "    response = client.chat.completions.create(\n",
        "        model=\"gpt-3.5-turbo\",\n",
        "        messages=[\n",
        "            {\"role\": \"system\", \"content\": system_prompt},\n",
        "            {\"role\": \"user\", \"content\": user_prompt}\n",
        "        ],\n",
        "        temperature=0.2,\n",
        "        max_tokens=400\n",
        "    )\n",
        "\n",
        "    return response.choices[0].message.content.strip()"
      ],
      "metadata": {
        "id": "Sw0cNx2XW-sD"
      },
      "execution_count": 7,
      "outputs": []
    },
    {
      "cell_type": "code",
      "source": [
        "test_questions = [\n",
        "    \"Что покрывается по страхованию ответственности аэропортов?\",\n",
        "    \"Какие риски не входят в стандартное покрытие для производителей авиационной техники?\",\n",
        "    \"Какова территориальная привязка действия полиса?\",\n",
        "    \"Покрываются ли убытки от кибератак?\",\n",
        "    \"Что такое лимит ответственности по договору?\"\n",
        "]\n",
        "\n",
        "for q in test_questions:\n",
        "    print(f\"❓ {q}\")\n",
        "    print(f\"✅ {ask_insurance_question(q)}\")\n",
        "    print(\"-\" * 80)"
      ],
      "metadata": {
        "colab": {
          "base_uri": "https://localhost:8080/"
        },
        "id": "9O5s-wQGXBcW",
        "outputId": "c8f169f9-d247-4cf7-b192-23e6b333cf14"
      },
      "execution_count": 8,
      "outputs": [
        {
          "output_type": "stream",
          "name": "stdout",
          "text": [
            "❓ Что покрывается по страхованию ответственности аэропортов?\n",
            "✅ Страхование ответственности аэропортов обычно включает в себя покрытие ответственности перед третьими лицами за такие виды деятельности, как ангарное хранение, управление воздушным движением, обслуживание на рампе, заправка и хранение авиатоплива, поставка бортового питания, обслуживание багажа и груза, авиационная безопасность, автомобильная парковка, служба спасения, орнитологическая служба, обслуживание навигационного оборудования. Также страхование может включать освобождение от ответственности и претензий со стороны авиакомпаний, использующих аэропорт, а также минимальные требования по страхованию ответственности перед третьими лицами для транспортных средств, находящихся на закрытой территории аэропорта.\n",
            "--------------------------------------------------------------------------------\n",
            "❓ Какие риски не входят в стандартное покрытие для производителей авиационной техники?\n",
            "✅ Для производителей авиационной техники риски, которые обычно исключаются из стандартного покрытия страхования, включают в себя ядерные риски, шумы, загрязнения и другие подобные опасности, военные риски, риски захвата и другие опасные риски, а также события, связанные с электронными данными.\n",
            "--------------------------------------------------------------------------------\n",
            "❓ Какова территориальная привязка действия полиса?\n",
            "✅ Территориальная привязка действия полиса охватывает территорию, указанную в самом полисе страхования. Обычно это территория определенного государства или ряда государств, но может быть расширена или ограничена в зависимости от условий, установленных в полисе.\n",
            "--------------------------------------------------------------------------------\n",
            "❓ Покрываются ли убытки от кибератак?\n",
            "✅ Да, убытки от кибератак могут покрываться по страхованию гражданской ответственности в авиационной сфере, если такие риски предусмотрены в полисе страхования.\n",
            "--------------------------------------------------------------------------------\n",
            "❓ Что такое лимит ответственности по договору?\n",
            "✅ Лимит ответственности по договору - это максимальная сумма, которую страхователь будет обязан выплатить в случае возникновения убытков или ущерба, застрахованных по договору. Этот лимит применяется как к каждому конкретному случаю ущерба, так и в общей сложности за весь период действия договора страхования. Лимит ответственности не может быть превышен, даже если общая сумма убытков превышает этот лимит.\n",
            "--------------------------------------------------------------------------------\n"
          ]
        }
      ]
    }
  ]
}