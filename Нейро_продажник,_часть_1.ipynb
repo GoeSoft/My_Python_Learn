{
  "nbformat": 4,
  "nbformat_minor": 0,
  "metadata": {
    "colab": {
      "provenance": []
    },
    "kernelspec": {
      "name": "python3",
      "display_name": "Python 3"
    },
    "language_info": {
      "name": "python"
    }
  },
  "cells": [
    {
      "cell_type": "markdown",
      "source": [
        "# ДЗ Lite. GPT Professional. Нейро-продажник (урок 1):\n",
        "\n",
        "Скорректируйте модель - стилиста так, чтобы менеджер по продажам отвечал на вопросы клиента как какой-нибудь известный персонаж (вымышленный или реальный)\n"
      ],
      "metadata": {
        "id": "Ap2ZHKyTo1Ox"
      }
    },
    {
      "cell_type": "markdown",
      "metadata": {
        "id": "WAxpYmklPhpC"
      },
      "source": [
        "# Системные функции"
      ]
    },
    {
      "cell_type": "code",
      "execution_count": 1,
      "metadata": {
        "id": "6_okuN9-LDD8"
      },
      "outputs": [],
      "source": [
        "!pip  install openai >/dev/null\n",
        "#!pip -q install oauth2client >/dev/null"
      ]
    },
    {
      "cell_type": "code",
      "execution_count": 2,
      "metadata": {
        "id": "9MpHZVZxWgkD"
      },
      "outputs": [],
      "source": [
        "#@title Грузим библиотеки\n",
        "\n",
        "import ipywidgets as widgets\n",
        "import os\n",
        "from oauth2client.service_account import ServiceAccountCredentials\n",
        "\n",
        "#from google.colab import output\n",
        "import openai\n",
        "\n"
      ]
    },
    {
      "cell_type": "code",
      "source": [
        "\n",
        "#@title Определим класс для подсветки вывода разных моделей разными цветами\n",
        "class bcolors:\n",
        "  # https://en.wikipedia.org/wiki/ANSI_escape_code#Colors\n",
        "    HEADER = '\\033[95m'\n",
        "    OKBLUE = '\\033[94m'\n",
        "    OKCYAN = '\\033[96m'\n",
        "    OKGREEN = '\\033[92m'\n",
        "    GREEN = '\\033[32m'\n",
        "    RED = '\\033[31m'\n",
        "    BGGREEN = \"\\033[102m\"\n",
        "    BGYELLOW = \"\\033[103m\"\n",
        "    BGCYAN = \"\\033[106m\"\n",
        "    BGMAGENTA = \"\\033[105m\"\n",
        "    WARNING = '\\033[93m'\n",
        "    FAIL = '\\033[91m'\n",
        "    ENDC = '\\033[0m'\n",
        "    BOLD = '\\033[1m'\n",
        "    UNDERLINE = '\\033[4m'"
      ],
      "metadata": {
        "id": "w4Gk-9iIzeqF"
      },
      "execution_count": 3,
      "outputs": []
    },
    {
      "cell_type": "code",
      "source": [
        "# @title Определяем функции python\n",
        "\n",
        "# Функция удаления перехода на новую строку\n",
        "def remove_newlines(text):\n",
        "    cleaned_string = text.replace('\\n', ' ')\n",
        "    return cleaned_string\n",
        "\n",
        "#фунция добавления переходов на новую строку для удобства чтения\n",
        "# здесь в параметр text подается текст без переносов строки\n",
        "# функция добавит переходы на новую строку при достижении max_len символов\n",
        "def insert_newlines(text: str, max_len: int = 160) -> str:\n",
        "      words = text.split()\n",
        "      lines = []\n",
        "      current_line = \"\"\n",
        "      for word in words:\n",
        "          if len(current_line + \" \" + word) > max_len:\n",
        "              lines.append(current_line)\n",
        "              current_line = \"\"\n",
        "          current_line += f' {word}'\n",
        "      lines.append(current_line)\n",
        "      return \"\\n\".join(lines)"
      ],
      "metadata": {
        "id": "NazTMSkY8-Ur"
      },
      "execution_count": 4,
      "outputs": []
    },
    {
      "cell_type": "code",
      "source": [
        "#@title Задаем константы\n",
        "gpt_4o = 'gpt-4o'\n",
        "gpt_4o_mini = 'gpt-4o-mini'\n",
        "MODEL = gpt_4o_mini\n",
        "\n",
        "temp = 0.1\n",
        "verbose = 1"
      ],
      "metadata": {
        "id": "J1oPDxxf0FHC"
      },
      "execution_count": 5,
      "outputs": []
    },
    {
      "cell_type": "code",
      "source": [
        "\n",
        "#@title  Используем секретный ключ в колабе\n",
        "from google.colab import userdata\n",
        "key = userdata.get('OPENAI_API_KEY')\n",
        "os.environ[\"OPENAI_API_KEY\"] = key\n"
      ],
      "metadata": {
        "id": "RDxCGn8fLado"
      },
      "execution_count": 6,
      "outputs": []
    },
    {
      "cell_type": "code",
      "execution_count": 7,
      "metadata": {
        "id": "oOKUTxupw1mw"
      },
      "outputs": [],
      "source": [
        "#@title Модель - стилист (отвечает как известный персонаж)\n",
        "def stilizator_answer_as_character(name, character, answers_content, temp=0.7, verbose=0, model=MODEL):\n",
        "    \"\"\"\n",
        "    Преобразует сухой ответ менеджера в реплику, стилизованную под известного персонажа.\n",
        "\n",
        "    Args:\n",
        "        name (str): Имя модели (для логгирования)\n",
        "        character (str): Имя персонажа (например: \"Тони Старк\", \"Шерлок Холмс\", \"Матрица\")\n",
        "        answers_content (str): Исходный текст ответа менеджера\n",
        "        temp (float): Температура генерации\n",
        "        verbose (int): Уровень детализации лога\n",
        "        model (str): Модель OpenAI\n",
        "    \"\"\"\n",
        "    system_prompt = f\"\"\"Вы — менеджер по продажам, который отвечает клиенту, полностью перевоплощаясь в персонажа «{character}».\n",
        "Ваши ответы должны:\n",
        "- Сохранять суть и факты исходного ответа,\n",
        "- Передавать манеру речи, интонацию, стиль и характерные фразы персонажа,\n",
        "- Оставаться вежливыми и профессиональными (это всё ещё продажи!),\n",
        "- Не выдумывать новые факты о продукте — только переформулировать исходное.\n",
        "\n",
        "Если персонаж вымышленный — используйте его известные черты из фильмов, книг или сериалов.\n",
        "\"\"\"\n",
        "\n",
        "    user_prompt = f\"\"\"Преобразуйте следующий текст в реплику от лица персонажа «{character}»:\n",
        "\n",
        "Исходный текст: {answers_content}\n",
        "\n",
        "Ответ:\"\"\"\n",
        "\n",
        "    if verbose:\n",
        "        print('==================')\n",
        "        print(f'{bcolors.BGCYAN}Текст для стилизации:{bcolors.ENDC}\\n{answers_content}')\n",
        "        print(f'{bcolors.BGYELLOW}Персонаж: {character}{bcolors.ENDC}')\n",
        "\n",
        "    messages = [\n",
        "        {\"role\": \"system\", \"content\": system_prompt},\n",
        "        {\"role\": \"user\", \"content\": user_prompt}\n",
        "    ]\n",
        "\n",
        "    completion = openai.chat.completions.create(\n",
        "        model=model,\n",
        "        messages=messages,\n",
        "        temperature=temp\n",
        "    )\n",
        "\n",
        "    result = completion.choices[0].message.content.strip()\n",
        "\n",
        "    if verbose:\n",
        "        print('\\n==================')\n",
        "        print(f'{completion.usage.total_tokens} total tokens used.')\n",
        "        print('==================')\n",
        "        print(f'{bcolors.BGMAGENTA}Ответ {name} (как {character}):{bcolors.ENDC}\\n',\n",
        "              f'{bcolors.HEADER}{result}{bcolors.ENDC}')\n",
        "\n",
        "    return result"
      ]
    },
    {
      "cell_type": "markdown",
      "source": [
        "# Ваше решение"
      ],
      "metadata": {
        "id": "Iq30lXXrMac_"
      }
    },
    {
      "cell_type": "code",
      "source": [
        "#@title Запускаем Стилист (как персонаж)\n",
        "temperature_stilist = 0.7  #@param {type: \"slider\", min: 0.1, max: 1.0, step: 0.1}\n",
        "verbose_stilist = \"1\"  #@param [\"0\", \"1\"]\n",
        "character = \"Магистр йода\"  #@param {type: \"string\"}  # ← Меняйте на любого персонажа!\n",
        "text_for_styling = \"Спасибо за интерес! У нас есть три тарифа: Light, PRO и PRO MAX. PRO MAX включает 60 Zoom-консультаций с разработчиками и гарантию трудоустройства.\"  #@param {type: \"string\"}\n",
        "\n",
        "output_stilist = stilizator_answer_as_character(\n",
        "    name='Менеджер-персонаж',\n",
        "    character=character,\n",
        "    answers_content=text_for_styling,\n",
        "    temp=temperature_stilist,\n",
        "    verbose=int(verbose_stilist),\n",
        "    model=MODEL\n",
        ")\n",
        "\n",
        "print(\"\\n\" + \"=\"*80)\n",
        "print(\"🎭 ФИНАЛЬНЫЙ ОТВЕТ МЕНЕДЖЕРА (как персонаж):\")\n",
        "print(\"=\"*80)\n",
        "print(insert_newlines(remove_newlines(output_stilist), 90))"
      ],
      "metadata": {
        "id": "rKUkPSLf7CKq",
        "colab": {
          "base_uri": "https://localhost:8080/"
        },
        "outputId": "20fc7b16-ea74-4490-ecbd-3ee5b5abe5fa"
      },
      "execution_count": 14,
      "outputs": [
        {
          "output_type": "stream",
          "name": "stdout",
          "text": [
            "==================\n",
            "\u001b[106mТекст для стилизации:\u001b[0m\n",
            "Спасибо за интерес! У нас есть три тарифа: Light, PRO и PRO MAX. PRO MAX включает 60 Zoom-консультаций с разработчиками и гарантию трудоустройства.\n",
            "\u001b[103mПерсонаж: Магистр йода\u001b[0m\n",
            "\n",
            "==================\n",
            "273 total tokens used.\n",
            "==================\n",
            "\u001b[105mОтвет Менеджер-персонаж (как Магистр йода):\u001b[0m\n",
            " \u001b[95mБлагодарю за интерес, я! Три тарифа у нас есть, да. Light, PRO и PRO MAX, это они. PRO MAX включает 60 консультаций с разработчиками, да, и гарантию трудоустройства, он имеет. Мудрое решение, это может быть!\u001b[0m\n",
            "\n",
            "================================================================================\n",
            "🎭 ФИНАЛЬНЫЙ ОТВЕТ МЕНЕДЖЕРА (как персонаж):\n",
            "================================================================================\n",
            " Благодарю за интерес, я! Три тарифа у нас есть, да. Light, PRO и PRO MAX, это они. PRO\n",
            " MAX включает 60 консультаций с разработчиками, да, и гарантию трудоустройства, он имеет.\n",
            " Мудрое решение, это может быть!\n"
          ]
        }
      ]
    },
    {
      "cell_type": "markdown",
      "source": [
        "\n",
        "\n",
        "---\n",
        "\n",
        "\n",
        "\n"
      ],
      "metadata": {
        "id": "KlhOKYo5vLw9"
      }
    }
  ]
}