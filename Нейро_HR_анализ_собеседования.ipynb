{
  "nbformat": 4,
  "nbformat_minor": 0,
  "metadata": {
    "colab": {
      "provenance": [],
      "include_colab_link": true
    },
    "kernelspec": {
      "name": "python3",
      "display_name": "Python 3"
    },
    "language_info": {
      "name": "python"
    }
  },
  "cells": [
    {
      "cell_type": "markdown",
      "metadata": {
        "id": "view-in-github",
        "colab_type": "text"
      },
      "source": [
        "<a href=\"https://colab.research.google.com/github/GoeSoft/My_Python_Learn/blob/main/%D0%9D%D0%B5%D0%B9%D1%80%D0%BE_HR_%D0%B0%D0%BD%D0%B0%D0%BB%D0%B8%D0%B7_%D1%81%D0%BE%D0%B1%D0%B5%D1%81%D0%B5%D0%B4%D0%BE%D0%B2%D0%B0%D0%BD%D0%B8%D1%8F.ipynb\" target=\"_parent\"><img src=\"https://colab.research.google.com/assets/colab-badge.svg\" alt=\"Open In Colab\"/></a>"
      ]
    },
    {
      "cell_type": "code",
      "source": [
        "!pip install openai beautifulsoup4 lxml tiktoken"
      ],
      "metadata": {
        "id": "xdEJuTBEBNU7",
        "colab": {
          "base_uri": "https://localhost:8080/"
        },
        "outputId": "5f40f501-dc1f-4a9a-ac87-87b680f80c72"
      },
      "execution_count": 1,
      "outputs": [
        {
          "output_type": "stream",
          "name": "stdout",
          "text": [
            "Requirement already satisfied: openai in /usr/local/lib/python3.12/dist-packages (1.108.0)\n",
            "Requirement already satisfied: beautifulsoup4 in /usr/local/lib/python3.12/dist-packages (4.13.5)\n",
            "Requirement already satisfied: lxml in /usr/local/lib/python3.12/dist-packages (5.4.0)\n",
            "Requirement already satisfied: tiktoken in /usr/local/lib/python3.12/dist-packages (0.11.0)\n",
            "Requirement already satisfied: anyio<5,>=3.5.0 in /usr/local/lib/python3.12/dist-packages (from openai) (4.10.0)\n",
            "Requirement already satisfied: distro<2,>=1.7.0 in /usr/local/lib/python3.12/dist-packages (from openai) (1.9.0)\n",
            "Requirement already satisfied: httpx<1,>=0.23.0 in /usr/local/lib/python3.12/dist-packages (from openai) (0.28.1)\n",
            "Requirement already satisfied: jiter<1,>=0.4.0 in /usr/local/lib/python3.12/dist-packages (from openai) (0.11.0)\n",
            "Requirement already satisfied: pydantic<3,>=1.9.0 in /usr/local/lib/python3.12/dist-packages (from openai) (2.11.9)\n",
            "Requirement already satisfied: sniffio in /usr/local/lib/python3.12/dist-packages (from openai) (1.3.1)\n",
            "Requirement already satisfied: tqdm>4 in /usr/local/lib/python3.12/dist-packages (from openai) (4.67.1)\n",
            "Requirement already satisfied: typing-extensions<5,>=4.11 in /usr/local/lib/python3.12/dist-packages (from openai) (4.15.0)\n",
            "Requirement already satisfied: soupsieve>1.2 in /usr/local/lib/python3.12/dist-packages (from beautifulsoup4) (2.8)\n",
            "Requirement already satisfied: regex>=2022.1.18 in /usr/local/lib/python3.12/dist-packages (from tiktoken) (2024.11.6)\n",
            "Requirement already satisfied: requests>=2.26.0 in /usr/local/lib/python3.12/dist-packages (from tiktoken) (2.32.4)\n",
            "Requirement already satisfied: idna>=2.8 in /usr/local/lib/python3.12/dist-packages (from anyio<5,>=3.5.0->openai) (3.10)\n",
            "Requirement already satisfied: certifi in /usr/local/lib/python3.12/dist-packages (from httpx<1,>=0.23.0->openai) (2025.8.3)\n",
            "Requirement already satisfied: httpcore==1.* in /usr/local/lib/python3.12/dist-packages (from httpx<1,>=0.23.0->openai) (1.0.9)\n",
            "Requirement already satisfied: h11>=0.16 in /usr/local/lib/python3.12/dist-packages (from httpcore==1.*->httpx<1,>=0.23.0->openai) (0.16.0)\n",
            "Requirement already satisfied: annotated-types>=0.6.0 in /usr/local/lib/python3.12/dist-packages (from pydantic<3,>=1.9.0->openai) (0.7.0)\n",
            "Requirement already satisfied: pydantic-core==2.33.2 in /usr/local/lib/python3.12/dist-packages (from pydantic<3,>=1.9.0->openai) (2.33.2)\n",
            "Requirement already satisfied: typing-inspection>=0.4.0 in /usr/local/lib/python3.12/dist-packages (from pydantic<3,>=1.9.0->openai) (0.4.1)\n",
            "Requirement already satisfied: charset_normalizer<4,>=2 in /usr/local/lib/python3.12/dist-packages (from requests>=2.26.0->tiktoken) (3.4.3)\n",
            "Requirement already satisfied: urllib3<3,>=1.21.1 in /usr/local/lib/python3.12/dist-packages (from requests>=2.26.0->tiktoken) (2.5.0)\n"
          ]
        }
      ]
    },
    {
      "cell_type": "code",
      "source": [
        "import os\n",
        "from google.colab import userdata\n",
        "\n",
        "os.environ[\"OPENAI_API_KEY\"] = userdata.get('OPENAI_API_KEY')"
      ],
      "metadata": {
        "id": "rv7vLwXt-2XW"
      },
      "execution_count": 2,
      "outputs": []
    },
    {
      "cell_type": "code",
      "source": [
        "import requests\n",
        "from bs4 import BeautifulSoup\n",
        "\n",
        "doc_url = \"https://docs.google.com/document/d/14PDkow15jxyAXsm0l196aefbRPmpYd3v0iJe0sPupY8\"\n",
        "\n",
        "# Экспорт как HTML\n",
        "export_url = doc_url + \"/export?format=html\"\n",
        "response = requests.get(export_url)\n",
        "response.raise_for_status()\n",
        "\n",
        "soup = BeautifulSoup(response.content, 'html.parser')\n",
        "interview_text = soup.get_text(separator=\"\\n\", strip=True)\n",
        "\n",
        "print(f\"✅ Загружено {len(interview_text)} символов.\")"
      ],
      "metadata": {
        "colab": {
          "base_uri": "https://localhost:8080/"
        },
        "id": "XlIPE2re-3qd",
        "outputId": "cc3a2c94-32f4-4ec2-dc03-3532976af15d"
      },
      "execution_count": 3,
      "outputs": [
        {
          "output_type": "stream",
          "name": "stdout",
          "text": [
            "✅ Загружено 11078 символов.\n"
          ]
        }
      ]
    },
    {
      "cell_type": "code",
      "source": [
        "from openai import OpenAI\n",
        "\n",
        "client = OpenAI()\n",
        "\n",
        "def analyze_interview(text):\n",
        "    prompt = f\"\"\"\n",
        "Вы — эксперт по подбору персонала (Нейро-HR). Проанализируйте следующее собеседование и подготовьте два отчёта.\n",
        "\n",
        "КРИТЕРИИ ОЦЕНКИ:\n",
        "1. Системность vs Суетология\n",
        "2. Самостоятельность vs Зависимость\n",
        "3. Ориентация на результат vs Ориентация на процесс\n",
        "4. Эмоциональная устойчивость\n",
        "5. Мотивация к развитию\n",
        "\n",
        "Для КАЖДОГО критерия, где применимо (особенно для дихотомий: 1–3), сделайте следующее:\n",
        "- Чётко определите, к какому полюсу склоняется кандидат.\n",
        "- Приведите **аргументы «за»** отнесение к этому типу (с цитатами или перефразированием из диалога).\n",
        "- Приведите **аргументы «против»** (если есть признаки противоположного полюса).\n",
        "- Укажите **плюсы и минусы** такого профиля для работодателя.\n",
        "- Если признаков недостаточно — так и напишите.\n",
        "\n",
        "ОТЧЁТ 1: Краткий (в виде списка по критериям)\n",
        "ОТЧЁТ 2: Подробный (с аргументацией, плюсами/минусами)\n",
        "\n",
        "Текст собеседования:\n",
        "{text}\n",
        "\"\"\"\n",
        "\n",
        "    response = client.chat.completions.create(\n",
        "        model=\"gpt-4o-mini\",\n",
        "        messages=[\n",
        "            {\"role\": \"system\", \"content\": \"Вы — профессиональный HR-аналитик.\"},\n",
        "            {\"role\": \"user\", \"content\": prompt}\n",
        "        ],\n",
        "        temperature=0.3,\n",
        "        max_tokens=2000\n",
        "    )\n",
        "    return response.choices[0].message.content.strip()\n",
        "\n",
        "# Запуск анализа\n",
        "full_report = analyze_interview(interview_text)\n",
        "print(full_report)"
      ],
      "metadata": {
        "colab": {
          "base_uri": "https://localhost:8080/"
        },
        "id": "QB5BFQKY-6zX",
        "outputId": "59e8eab6-f216-447a-db37-bf94f68a0740"
      },
      "execution_count": 4,
      "outputs": [
        {
          "output_type": "stream",
          "name": "stdout",
          "text": [
            "### ОТЧЁТ 1: Краткий (в виде списка по критериям)\n",
            "\n",
            "1. **Системность vs Суетология**\n",
            "   - Полюс: Системность\n",
            "   - Аргументы «за»: Кандидат упоминает о структурированности работы, о создании системы для упрощения работы рекрутеров.\n",
            "   - Аргументы «против»: Непосредственно не выявлены.\n",
            "   - Плюсы: Способность организовать рабочие процессы, улучшить эффективность.\n",
            "   - Минусы: Возможная недостаточная гибкость в условиях быстро меняющейся среды.\n",
            "\n",
            "2. **Самостоятельность vs Зависимость**\n",
            "   - Полюс: Самостоятельность\n",
            "   - Аргументы «за»: Кандидат самостоятельно принимал решения по улучшению процессов, искал новые источники для рекрутинга.\n",
            "   - Аргументы «против»: Иногда зависела от мнения руководства (например, в вопросах увольнения).\n",
            "   - Плюсы: Инициативность, способность к самостоятельной работе.\n",
            "   - Минусы: Возможная недостаточная способность работать в условиях жесткого контроля.\n",
            "\n",
            "3. **Ориентация на результат vs Ориентация на процесс**\n",
            "   - Полюс: Ориентация на результат\n",
            "   - Аргументы «за»: Кандидат акцентирует внимание на важности достижения целей и роста компании.\n",
            "   - Аргументы «против»: Упоминание о процессе работы в команде.\n",
            "   - Плюсы: Стремление к достижению результатов, что важно для бизнеса.\n",
            "   - Минусы: Возможная игнорирование деталей процесса.\n",
            "\n",
            "4. **Эмоциональная устойчивость**\n",
            "   - Полюс: Умеренная эмоциональная устойчивость\n",
            "   - Аргументы «за»: Кандидат справлялся с морально сложными задачами, такими как увольнение сотрудников.\n",
            "   - Аргументы «против»: Упоминание о том, что такие задачи давались тяжело.\n",
            "   - Плюсы: Способность справляться с трудными ситуациями.\n",
            "   - Минусы: Возможная чувствительность к стрессовым ситуациям.\n",
            "\n",
            "5. **Мотивация к развитию**\n",
            "   - Полюс: Высокая мотивация\n",
            "   - Аргументы «за»: Кандидат активно проходит обучение и интересуется новыми сферами, такими как искусственный интеллект и маркетинг.\n",
            "   - Аргументы «против»: Непосредственно не выявлены.\n",
            "   - Плюсы: Готовность к обучению и развитию, что способствует росту компании.\n",
            "   - Минусы: Возможная перегрузка от стремления к обучению.\n",
            "\n",
            "---\n",
            "\n",
            "### ОТЧЁТ 2: Подробный (с аргументацией, плюсами/минусами)\n",
            "\n",
            "1. **Системность vs Суетология**\n",
            "   - **Полюс**: Системность\n",
            "   - **Аргументы «за»**: Кандидат упоминает, что в своей работе он стремился к структурированности и организованности, что видно из его примера с созданием системы для упрощения работы рекрутеров. Он говорит: \"мы договорились, ну, совместно с программистом, придумали систему, воспользовались Яндекс-возможностями и сделали заявки на карте\".\n",
            "   - **Аргументы «против»**: Непосредственно не выявлены, однако можно предположить, что в условиях высокой нагрузки может возникать суета.\n",
            "   - **Плюсы**: Кандидат способен организовать рабочие процессы, что может значительно повысить эффективность команды.\n",
            "   - **Минусы**: В условиях быстро меняющейся среды может не хватать гибкости.\n",
            "\n",
            "2. **Самостоятельность vs Зависимость**\n",
            "   - **Полюс**: Самостоятельность\n",
            "   - **Аргументы «за»**: Кандидат демонстрирует инициативу в поиске новых источников для рекрутинга и в принятии решений по улучшению процессов. Например, он говорит: \"я пыталась найти новые источники, помимо HeadHunter, Авито\".\n",
            "   - **Аргументы «против»**: В некоторых ситуациях зависел от мнения руководства, как в случае с увольнением сотрудников.\n",
            "   - **Плюсы**: Инициативность и способность к самостоятельной работе, что важно для роли помощника руководителя.\n",
            "   - **Минусы**: Возможная недостаточная способность работать в условиях жесткого контроля.\n",
            "\n",
            "3. **Ориентация на результат vs Ориентация на процесс**\n",
            "   - **Полюс**: Ориентация на результат\n",
            "   - **Аргументы «за»**: Кандидат акцентирует внимание на важности достижения целей и роста компании, что видно из его слов: \"Мне важно, чтобы компания развивалась, в которой я работаю\".\n",
            "   - **Аргументы «против»**: Упоминание о процессе работы в команде, что может указывать на некоторую ориентацию на процесс.\n",
            "   - **Плюсы**: Стремление к достижению результатов, что критично для бизнеса.\n",
            "   - **Минусы**: Возможная игнорирование деталей процесса, что может привести к ошибкам.\n",
            "\n",
            "4. **Эмоциональная устойчивость**\n",
            "   - **Полюс**: Умеренная эмоциональная устойчивость\n",
            "   - **Аргументы «за»**: Кандидат справлялся с морально сложными задачами, такими как увольнение сотрудников, что говорит о его способности работать в стрессовых ситуациях.\n",
            "   - **Аргументы «против»**: Упоминание о том, что такие задачи давались тяжело, может указывать на чувствительность к стрессу.\n",
            "   - **Плюсы**: Способность справляться с трудными ситуациями, что важно для работы в команде.\n",
            "   - **Минусы**: Возможная чувствительность к стрессовым ситуациям, что может повлиять на производительность.\n",
            "\n",
            "5. **Мотивация к развитию**\n",
            "   - **Полюс**: Высокая мотивация\n",
            "   - **Аргументы «за»**: Кандидат активно проходит обучение и интересуется новыми сферами, такими как искусственный интеллект и маркетинг. Он говорит: \"я также прохожу обучение на сценариста прогревов в Инстаграме\".\n",
            "   - **Аргументы «против»**: Непосредственно не выявлены.\n",
            "   - **Плюсы**: Готовность к обучению и развитию, что способствует росту компании.\n",
            "   - **Минусы**: Возможная перегрузка от стремления к обучению, что может отвлекать от основных задач.\n"
          ]
        }
      ]
    }
  ]
}